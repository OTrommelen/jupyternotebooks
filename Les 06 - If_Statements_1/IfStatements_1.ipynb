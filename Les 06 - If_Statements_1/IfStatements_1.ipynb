{
 "metadata": {
  "language_info": {
   "codemirror_mode": {
    "name": "ipython",
    "version": 3
   },
   "file_extension": ".py",
   "mimetype": "text/x-python",
   "name": "python",
   "nbconvert_exporter": "python",
   "pygments_lexer": "ipython3",
   "version": "3.9.1-final"
  },
  "orig_nbformat": 2,
  "kernelspec": {
   "name": "python3",
   "display_name": "Python 3.9.1 64-bit",
   "metadata": {
    "interpreter": {
     "hash": "89aee6942dff7a18974bb50e1d06d5f53d62a755afa5f3e07738ada7c8d88558"
    }
   }
  }
 },
 "nbformat": 4,
 "nbformat_minor": 2,
 "cells": [
  {
   "source": [
    "# If Statements\n",
    "\n",
    "`If Statements` zijn beslissingen die in de code genomen kunnen worden. Soms willen we namelijk dat een stukje code pas alleen wordt uitgevoerd als er een bepaalde conditie waar (`True`) is. Denk bijvoorbeeld aan een programma die checkt of de gebruiker volwassen is of niet. We kunnen dus op basis van de leeftijd verschillende stukjes code (in dit geval zijn het slechts regels) uitvoeren. Zie het onderstaande stukje code. Probeer zelf eens de `variabelen` leeftijd een andere waarde te geven om te kijken wat er uit komt."
   ],
   "cell_type": "markdown",
   "metadata": {}
  },
  {
   "cell_type": "code",
   "execution_count": null,
   "metadata": {},
   "outputs": [],
   "source": [
    "leeftijd = 5\n",
    "\n",
    "if leeftijd < 18:\n",
    "    print(\"Je bent nog niet volwassen!\")\n",
    "else:\n",
    "    print(\"Je bent volwassen!\")"
   ]
  },
  {
   "source": [
    "Zoals je ziet bestaat een volledige `If Statement` uit 2 verschillende onderdelen:\n",
    "- `if` conditie `:`\n",
    "\n",
    "Dit betekend eigenlijk: `Als de conditie waar is, dan...`. In ons voorbeeld om te kijken of iemand een volwassenen is of niet, is de conditie `leeftijd < 18`. Dus de vertaling van de regel code `if leeftijd < 18:` is dus: `Als de leeftijd lager is dan 18, dan...`. Als we dan verder in de code kijken zien we op de volgende regel `print(\"Je bent nog niet volwassen!\")` staan. Dit is dus de code die uitgevoerd wordt als de conditie waar is. **Let goed op, dat alleen de code die opzij geschoven staat, wordt uitgevoerd zodra de conditie waar is!**\n",
    "- `else:`\n",
    "\n",
    "Dit betekend `anders`. Deze regel code werkt dus goed samen met de `If Statement` die eerder al is aangegeven. Want mocht de conditie nou niet waar zijn, dan willen we toch nog code uitvoeren. In dit geval is de code die we uitvoeren `print(\"Je bent volwassen!)`. **Let op! Elke regel code die onder de `else:` staat en opzij geschoven is, hoort bij de `else:`.**"
   ],
   "cell_type": "markdown",
   "metadata": {}
  },
  {
   "source": [
    "---\n",
    "# Opdrachten\n",
    "\n",
    "Hieronder staan opdrachten die over `If Statements` gaan. Kijk goed naar het voorbeeld en probeer zo veel mogelijk te maken."
   ],
   "cell_type": "markdown",
   "metadata": {}
  },
  {
   "source": [
    "## Voorbeeld opdracht 1:\n",
    "\n",
    "Zorg dat de uitkomst van het algoritme `Jonger dan 12 jaar!` is. Zet de `Conditional` tussen de haakjes achter de `if`."
   ],
   "cell_type": "markdown",
   "metadata": {}
  },
  {
   "cell_type": "code",
   "execution_count": null,
   "metadata": {},
   "outputs": [],
   "source": [
    "\n",
    "\n",
    "if ():\n",
    "    print(\"Jonger dan 12 jaar!\")\n",
    "else:\n",
    "    print(\"Ouder dan 12 jaar!\")"
   ]
  },
  {
   "source": [
    "Om deze opdracht op te lossen moeten we dus een `Conditional` maken een `x` een waarde geven zodat we de uitkomst `Jonger dan 12 jaar!` is. Het is vrij makkelijk om een `Conditional` te bedenken die hiervoor kan zorgen. We weten namelijk dat we de variabelen `x` hebben en deze moeten vergelijken met `12`. We zien dat we `print(\"Jonger dan 12 jaar!\")` krijgen als de `Conditional` `True` is. Deze regel code staat namelijk direct onder de `if ():`.\n",
    "\n",
    "Nu we weten met welke variabelen we moeten werken en wat de conditie moet zijn, kunnen we een `Conditional` opstellen. Namelijk: `x < 12`. Hiermee checken we dus of de waarde in `x` kleiner is dan `12`. We zetten deze `Conditional` dus tussen de `()` bij de `if`. \n",
    "\n",
    "Ten slotte moeten we `x` een waarde geven zodat de `Conditional` `True` wordt. In dit geval kunnen we welk getal kleiner dan `12` kiezen, bijvoorbeeld `1`.\n",
    "\n",
    "Het enigste wat we nog hoeven te doen is dit in te vullen in onze code en de code uitvoeren:"
   ],
   "cell_type": "markdown",
   "metadata": {}
  },
  {
   "cell_type": "code",
   "execution_count": null,
   "metadata": {},
   "outputs": [],
   "source": [
    "x = \n",
    "\n",
    "if ():\n",
    "    print(\"Jonger dan 12 jaar!\")\n",
    "else:\n",
    "    print(\"Ouder dan 12 jaar!\")"
   ]
  },
  {
   "source": [
    "## Opdracht 1:\n",
    "\n",
    "1 Mensenjaar is 7 hondenjaren. Maak een `Conditional` die checkt of je ouder bent dan je hond in mensenjaren. Vergeet niet om `variabelen` aan te maken!"
   ],
   "cell_type": "markdown",
   "metadata": {}
  },
  {
   "cell_type": "code",
   "execution_count": null,
   "metadata": {},
   "outputs": [],
   "source": [
    "\n",
    "\n",
    "\n",
    "if ():\n",
    "    print(\"Ik ben ouder dan mijn hond!\")\n",
    "else:\n",
    "    print(\"Ik ben jonger dan mijn hond\")"
   ]
  },
  {
   "source": [
    "## Opdracht 2:\n",
    "\n",
    "Om een kat te kopen moet je tenminste 40 euro hebben. Zorg dat de uitkomst van het algoritme `Ja, ik mag een kat kopen` is. Maak gebruik van de variabelen `geld`."
   ],
   "cell_type": "markdown",
   "metadata": {}
  },
  {
   "cell_type": "code",
   "execution_count": 7,
   "metadata": {},
   "outputs": [
    {
     "output_type": "stream",
     "name": "stdout",
     "text": [
      "Ja, ik mag een kat kopen\n"
     ]
    }
   ],
   "source": [
    "\n",
    "\n",
    "if ():\n",
    "    print(\"Ja, ik mag een kat kopen\")\n",
    "else:\n",
    "    print(\"Nee, ik mag geen kat kopen\")"
   ]
  },
  {
   "source": [
    "## Opdracht 3:\n",
    "Maak het algoritme compleet om te checken of een number positief of negatief is. (**hint:** Een positief getal is groter dan 0)"
   ],
   "cell_type": "markdown",
   "metadata": {}
  },
  {
   "cell_type": "code",
   "execution_count": 8,
   "metadata": {},
   "outputs": [
    {
     "output_type": "stream",
     "name": "stdout",
     "text": [
      "Dit nummer is positief\n"
     ]
    }
   ],
   "source": [
    "\n",
    "\n",
    "if ():\n",
    "    print(\"Dit nummer is positief\")\n",
    "else:\n",
    "    print(\"Dit nummer is negatief\")"
   ]
  },
  {
   "source": [
    "## Opdracht 4:\n",
    "Maak het algoritme compleet om te checken of 2 nummers gelijk zijn."
   ],
   "cell_type": "markdown",
   "metadata": {}
  },
  {
   "cell_type": "code",
   "execution_count": null,
   "metadata": {},
   "outputs": [],
   "source": [
    "\n",
    "\n",
    "\n",
    "if ():\n",
    "    print(\"Deze nummers zijn gelijk aan elkaar!\")\n",
    "else:\n",
    "    print(\"Deze nummers zijn niet gelijk aan elkaar!\")"
   ]
  },
  {
   "source": [
    "## Opdracht 5:\n",
    "\n",
    "Maak het algoritme compleet om te checken of een persoon mag stemmen of niet. (Stemmen mag je vanaf 18 jaar oud)"
   ],
   "cell_type": "markdown",
   "metadata": {}
  },
  {
   "cell_type": "code",
   "execution_count": null,
   "metadata": {},
   "outputs": [],
   "source": [
    "\n",
    "\n",
    "\n",
    "if ():\n",
    "    print(\"Je mag stemmen!\")\n",
    "else:\n",
    "    print(\"Je mag niet stemmen!\")"
   ]
  }
 ]
}