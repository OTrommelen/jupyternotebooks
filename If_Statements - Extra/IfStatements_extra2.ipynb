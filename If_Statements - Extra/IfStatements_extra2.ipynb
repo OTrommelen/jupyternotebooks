{
 "metadata": {
  "language_info": {
   "codemirror_mode": {
    "name": "ipython",
    "version": 3
   },
   "file_extension": ".py",
   "mimetype": "text/x-python",
   "name": "python",
   "nbconvert_exporter": "python",
   "pygments_lexer": "ipython3",
   "version": 3
  },
  "orig_nbformat": 2
 },
 "nbformat": 4,
 "nbformat_minor": 2,
 "cells": [
  {
   "source": [
    "# Extra oefenen 2 - If Statements\n",
    "\n",
    "Maak gebruik van de uitleg in de andere Notebooks en de filmpjes. <a href=\"https://youtu.be/VAbYbdOScxA\">Dit</a> filmpje legt de opdrachten van de vorige notebook uit."
   ],
   "cell_type": "markdown",
   "metadata": {}
  },
  {
   "source": [
    "### Opdracht 1\n",
    "Maak een algoritme dat kijkt of een nummer oneven is **en** negatief."
   ],
   "cell_type": "markdown",
   "metadata": {}
  },
  {
   "cell_type": "code",
   "execution_count": null,
   "metadata": {},
   "outputs": [],
   "source": [
    "x =\n",
    "\n",
    "if():\n",
    "    print(\"Het nummer is oneven en negatief!\")\n",
    "else:\n",
    "    print(\"Het nummer is niet oneven of niet negatief!\")"
   ]
  },
  {
   "source": [
    "### Opdracht 2\n",
    "Maak een algoritme dat kijkt of **1** van de **twee** nummers negatief is."
   ],
   "cell_type": "markdown",
   "metadata": {}
  },
  {
   "cell_type": "code",
   "execution_count": null,
   "metadata": {},
   "outputs": [],
   "source": [
    "\n",
    "\n",
    "\n"
   ]
  },
  {
   "source": [
    "### Opdracht 3\n",
    "Maak een algoritme dat kijkt welk van de 3 nummers groter is."
   ],
   "cell_type": "markdown",
   "metadata": {}
  },
  {
   "cell_type": "code",
   "execution_count": null,
   "metadata": {},
   "outputs": [],
   "source": [
    "num1 = \n",
    "num2 =\n",
    "num3 = \n",
    "\n",
    "if():\n",
    "    print(str(num1) + \"is groter dan \" + str(num2))\n",
    "else:\n",
    "    print(str(num2) + \"is groter dan \" + str(num1))"
   ]
  },
  {
   "source": [
    "### Opdracht 4\n",
    "Maak een algoritme die verteld wanneer een nummer deelbaar is door 12, 21 of geen van beide."
   ],
   "cell_type": "markdown",
   "metadata": {}
  },
  {
   "cell_type": "code",
   "execution_count": null,
   "metadata": {},
   "outputs": [],
   "source": [
    "num = \n",
    "\n",
    "if():\n",
    "    print(\"Nummer is deelbaar door 12\")\n",
    "elif():\n",
    "    print(\"Nummer is deelbaar door 21\")\n",
    "else:\n",
    "    print(\"Nummer is niet deelbaar door 12 of 21\")"
   ]
  },
  {
   "source": [
    "### Opdracht 5\n",
    "Maak het volgende algoritme:\n",
    "\n",
    "<img src=\"https://i.imgur.com/WOTx3JS.png\">"
   ],
   "cell_type": "markdown",
   "metadata": {}
  },
  {
   "cell_type": "code",
   "execution_count": null,
   "metadata": {},
   "outputs": [],
   "source": [
    "dag = \n",
    "\n",
    "\n",
    "\n",
    "\n",
    "\n",
    "\n",
    "\n"
   ]
  }
 ]
}