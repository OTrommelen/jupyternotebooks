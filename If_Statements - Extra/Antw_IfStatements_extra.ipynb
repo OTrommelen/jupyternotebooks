{
 "metadata": {
  "language_info": {
   "codemirror_mode": {
    "name": "ipython",
    "version": 3
   },
   "file_extension": ".py",
   "mimetype": "text/x-python",
   "name": "python",
   "nbconvert_exporter": "python",
   "pygments_lexer": "ipython3",
   "version": "3.9.1-final"
  },
  "orig_nbformat": 2,
  "kernelspec": {
   "name": "python391jvsc74a57bd089aee6942dff7a18974bb50e1d06d5f53d62a755afa5f3e07738ada7c8d88558",
   "display_name": "Python 3.9.1 64-bit"
  },
  "metadata": {
   "interpreter": {
    "hash": "89aee6942dff7a18974bb50e1d06d5f53d62a755afa5f3e07738ada7c8d88558"
   }
  }
 },
 "nbformat": 4,
 "nbformat_minor": 2,
 "cells": [
  {
   "source": [
    "# Extra oefenen - If Statements\n",
    "\n",
    "Maak gebruik van de uitleg in de andere Notebooks en de filmpjes. <a href=\"https://youtu.be/VAbYbdOScxA\">Dit</a> filmpje legt de opdrachten van de vorige notebook uit."
   ],
   "cell_type": "markdown",
   "metadata": {}
  },
  {
   "source": [
    "### Opdracht 1\n",
    "Maak een algoritme dat kijkt of een nummer even is **en** positief."
   ],
   "cell_type": "markdown",
   "metadata": {}
  },
  {
   "cell_type": "code",
   "execution_count": 3,
   "metadata": {},
   "outputs": [
    {
     "output_type": "stream",
     "name": "stdout",
     "text": [
      "Het nummer is niet even of niet positief!\n"
     ]
    }
   ],
   "source": [
    "x = -4\n",
    "\n",
    "\n",
    "if(x % 2 == 0 and x > 0):\n",
    "    print(\"Het nummer is even en positief!\")\n",
    "else:\n",
    "    print(\"Het nummer is niet even of niet positief!\")"
   ]
  },
  {
   "source": [
    "### Opdracht 2\n",
    "Maak een algoritme dat kijkt of **2** nummers **allebei** positief zijn."
   ],
   "cell_type": "markdown",
   "metadata": {}
  },
  {
   "cell_type": "code",
   "execution_count": 6,
   "metadata": {},
   "outputs": [
    {
     "output_type": "stream",
     "name": "stdout",
     "text": [
      "Een van de nummers is niet positief\n"
     ]
    }
   ],
   "source": [
    "nummer1 = -19\n",
    "nummer2 = -10\n",
    "\n",
    "if(nummer1 > 0 and nummer2 > 0):\n",
    "    print(\"Beide nummers zijn positief\")\n",
    "else:\n",
    "    print(\"Een van de nummers is niet positief\")\n",
    "\n",
    "\n"
   ]
  },
  {
   "source": [
    "### Opdracht 3\n",
    "Maak een algoritme dat kijkt welk van de 2 nummers groter is."
   ],
   "cell_type": "markdown",
   "metadata": {}
  },
  {
   "cell_type": "code",
   "execution_count": 8,
   "metadata": {},
   "outputs": [
    {
     "output_type": "stream",
     "name": "stdout",
     "text": [
      "1000is groter dan 100\n"
     ]
    }
   ],
   "source": [
    "num1 = 1000\n",
    "num2 = 100\n",
    "\n",
    "if(num1 > num2):\n",
    "    print(str(num1) + \"is groter dan \" + str(num2))\n",
    "else:\n",
    "    print(str(num2) + \"is groter dan \" + str(num1))"
   ]
  },
  {
   "source": [
    "### Opdracht 4\n",
    "Maak een algoritme die verteld wanneer een nummer deelbaar is door 7, 10 of geen van beide."
   ],
   "cell_type": "markdown",
   "metadata": {}
  },
  {
   "cell_type": "code",
   "execution_count": 16,
   "metadata": {},
   "outputs": [
    {
     "output_type": "stream",
     "name": "stdout",
     "text": [
      "Nummer is deelbaar door 7\n"
     ]
    }
   ],
   "source": [
    "num = 70\n",
    "\n",
    "if(num % 7 == 0):\n",
    "    print(\"Nummer is deelbaar door 7\")\n",
    "elif(num % 10 == 0):\n",
    "    print(\"Nummer is deelbaar door 10\")\n",
    "else:\n",
    "    print(\"Nummer is niet deelbaar door 7 of 10\")"
   ]
  },
  {
   "source": [
    "### Opdracht 5\n",
    "Maak het volgende algoritme:\n",
    "\n",
    "<img src=\"https://i.imgur.com/VGOrHYr.png\">"
   ],
   "cell_type": "markdown",
   "metadata": {}
  },
  {
   "cell_type": "code",
   "execution_count": 18,
   "metadata": {},
   "outputs": [
    {
     "output_type": "stream",
     "name": "stdout",
     "text": [
      "Je bent volwassen\n"
     ]
    }
   ],
   "source": [
    "leeftijd = 36\n",
    "\n",
    "if(leeftijd > 65):\n",
    "    print(\"Je bent bejaard\")\n",
    "elif(leeftijd > 40):\n",
    "    print(\"Je bent middeljarig\")\n",
    "elif(leeftijd > 18):\n",
    "    print(\"Je bent volwassen\")\n",
    "elif(leeftijd > 12):\n",
    "    print(\"Je bent een tiener\")\n",
    "else:\n",
    "    print(\"Je bent nog een kind\")\n",
    "\n",
    "\n"
   ]
  },
  {
   "cell_type": "code",
   "execution_count": 11,
   "metadata": {},
   "outputs": [
    {
     "output_type": "stream",
     "name": "stdout",
     "text": [
      "0\n"
     ]
    }
   ],
   "source": [
    "print(9 % 3)"
   ]
  },
  {
   "cell_type": "code",
   "execution_count": null,
   "metadata": {},
   "outputs": [],
   "source": []
  }
 ]
}