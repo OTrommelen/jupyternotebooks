{
 "metadata": {
  "language_info": {
   "codemirror_mode": {
    "name": "ipython",
    "version": 3
   },
   "file_extension": ".py",
   "mimetype": "text/x-python",
   "name": "python",
   "nbconvert_exporter": "python",
   "pygments_lexer": "ipython3",
   "version": "3.9.1-final"
  },
  "orig_nbformat": 2,
  "kernelspec": {
   "name": "python3",
   "display_name": "Python 3.9.1 64-bit",
   "metadata": {
    "interpreter": {
     "hash": "89aee6942dff7a18974bb50e1d06d5f53d62a755afa5f3e07738ada7c8d88558"
    }
   }
  }
 },
 "nbformat": 4,
 "nbformat_minor": 2,
 "cells": [
  {
   "source": [
    "# Notebook Variabelen 1\n",
    "\n",
    "Met behulp van deze Notebook gaan we leren hoe we variabelen in `Python` kunnen gebruiken. \n",
    "\n",
    "Verder staan in deze Notebook ook nog een aantal opdrachten die gemaakt en ingeleverd moeten worden!\n",
    "\n",
    "*Is het zo dat, zodra je de Notebook hebt geopent, alle code al wordt uitgevoerd en hierdoor staan er veel errors? Gebruik dan de `Clear All Output` knop die in de rij met knopjes bovenin staat. (Zie ook afbeelding)*\n",
    "\n",
    "<img src=\"https://i.imgur.com/TxvmwUw.png\" width=3%>\n",
    "\n"
   ],
   "cell_type": "markdown",
   "metadata": {}
  },
  {
   "source": [
    "## Variabelen in Python\n",
    "\n",
    "Om een variabelen in Python te maken, hoef je alleen maar de naam van de variabelen typen, vervolgens zet je er een `=` teken achter en ten slotte zet je de waarde van de variabelen daarachter. Om een variabelen te gebruiken, hoef je alleen maar de naam van de variabelen in te typen.\n",
    "\n",
    "**Let op!**\n",
    "Als je een variabelen maakt met als waarde een nummer, dan hoeven er geen aanhalingstekens (\") omheen. Maar als je een variabelen maakt met als waarde een `String`, dan moeten er wel aanhalingstekens (\") omheen!\n",
    "\n"
   ],
   "cell_type": "markdown",
   "metadata": {}
  },
  {
   "cell_type": "code",
   "execution_count": null,
   "metadata": {},
   "outputs": [],
   "source": [
    "# VOORBEELD\n",
    "hoi = \"doei\"\n",
    "x = 5 #Hier maak ik een variabelen met de naam `x` en geef ik deze de waarde 5\n",
    "print(x) #Hier laat ik zien welke waarde er in de variabelen `x` staat opgeslagen\n",
    "y = hoi #Hier maak ik een variabelen met de naam `y` en geef ik deze de waarde \"Hoi\". Let op, ik maak gebruik van aanhalingstekens zowel ervoor als erachter!\n",
    "print(y) #Hier laat ik zien welke waarde er in de variabelen `y` staat opgeslagen"
   ]
  },
  {
   "source": [
    "Het is belangrijk dat je een variabelen een waarde geeft voordat je deze gaat gebruiken. Probeer je een variabelen zonder waarde te gebruiken dan zal het algoritme niet werken! Probeer het volgende stukje code maar eens uit te voeren, je zult zien dat je een `SyntaxError` krijgt. In de error kan je ook zien wat er fout is. In dit geval is er een fout in de regel `x = `, en dat klopt ook! We proberen namelijk de variabelen `x` te gebruiken zonder dat we deze een waarde hebben gegeven. Om het probleem op te lossen hoef je alleen maar een waarde aan `x` te geven!"
   ],
   "cell_type": "markdown",
   "metadata": {}
  },
  {
   "cell_type": "code",
   "execution_count": null,
   "metadata": {},
   "outputs": [],
   "source": [
    "x = 5\n",
    "print(x)"
   ]
  },
  {
   "source": [
    "## Opdrachten \n",
    "---\n",
    "In de volgende opdrachten moet je zorgen dat de `uitdrukking` op een bepaalde uitkomst komt. Zie het voorbeeld hieronder:\n",
    "\n",
    "*Vergeet niet de variabelen waardes te geven, anders zal de code niet runnen*\n"
   ],
   "cell_type": "markdown",
   "metadata": {}
  },
  {
   "source": [
    "### Voorbeeld\n",
    "Zorg dat de uitkomst van de uitdrukking 10 is.\n",
    "\n",
    "*Je ziet dat de variabelen `x` nog geen waarde heeft. Het is het doel van de opdracht om `x` een waarde te geven zodat de uitkomst van de uitdrukking 10 is.*\n"
   ],
   "cell_type": "markdown",
   "metadata": {}
  },
  {
   "cell_type": "code",
   "execution_count": null,
   "metadata": {},
   "outputs": [],
   "source": [
    "x = \n",
    "print(x + 5) #Uitkomst moet 10 zijn"
   ]
  },
  {
   "source": [
    "*We moeten `x` dus een waarde van 5 geven:*"
   ],
   "cell_type": "markdown",
   "metadata": {}
  },
  {
   "cell_type": "code",
   "execution_count": null,
   "metadata": {},
   "outputs": [],
   "source": [
    "x = 5\n",
    "print(x + 5)"
   ]
  },
  {
   "source": [
    "### Opdracht 1:\n",
    "\n",
    "Zorg dat uitkomst van de uitdrukking 20 is:"
   ],
   "cell_type": "markdown",
   "metadata": {}
  },
  {
   "cell_type": "code",
   "execution_count": null,
   "metadata": {},
   "outputs": [],
   "source": [
    "x = \n",
    "print(x * 5)"
   ]
  },
  {
   "source": [
    "### Opdracht 2:\n",
    "Zorg dat de uitkomst van de uitdrukking 3 is:"
   ],
   "cell_type": "markdown",
   "metadata": {}
  },
  {
   "cell_type": "code",
   "execution_count": null,
   "metadata": {},
   "outputs": [],
   "source": [
    "x = \n",
    "print(9 / x)"
   ]
  },
  {
   "source": [
    "### Opdracht 3:\n",
    "Zorg dat de uitkomst van de uitdrukking \"Hoi\" is:"
   ],
   "cell_type": "markdown",
   "metadata": {}
  },
  {
   "cell_type": "code",
   "execution_count": null,
   "metadata": {},
   "outputs": [],
   "source": [
    "x = \n",
    "print(\"H\" + str(x))"
   ]
  },
  {
   "source": [
    "### Opdracht 4:\n",
    "Zorg dat de uitkomst van de uitdrukking \"coolcoolcool\" is:"
   ],
   "cell_type": "markdown",
   "metadata": {}
  },
  {
   "cell_type": "code",
   "execution_count": null,
   "metadata": {},
   "outputs": [],
   "source": [
    "x = \n",
    "print(3 * x)"
   ]
  },
  {
   "source": [
    "### Opdracht 5:\n",
    "Zorg dat de uitkomst van de uitdrukking 32 is:"
   ],
   "cell_type": "markdown",
   "metadata": {}
  },
  {
   "cell_type": "code",
   "execution_count": null,
   "metadata": {},
   "outputs": [],
   "source": [
    "x = \n",
    "print(x - 20)"
   ]
  },
  {
   "source": [
    "### Opdracht 6:\n",
    "Zorg dat de uitkomst van de uitdrukking 12 is:"
   ],
   "cell_type": "markdown",
   "metadata": {}
  },
  {
   "cell_type": "code",
   "execution_count": null,
   "metadata": {},
   "outputs": [],
   "source": [
    "x = \n",
    "print(17 - x)"
   ]
  },
  {
   "source": [
    "### Opdracht 7:\n",
    "Zorg dat de uitkomst van de uitdrukking 15 is:"
   ],
   "cell_type": "markdown",
   "metadata": {}
  },
  {
   "cell_type": "code",
   "execution_count": null,
   "metadata": {},
   "outputs": [],
   "source": [
    "x = \n",
    "y = \n",
    "print(x - y)"
   ]
  },
  {
   "source": [
    "### Opdracht 8:\n",
    "Zorg dat de uitkomst van de uitdrukking \"4biem\" is:\n"
   ],
   "cell_type": "markdown",
   "metadata": {}
  },
  {
   "cell_type": "code",
   "execution_count": null,
   "metadata": {},
   "outputs": [],
   "source": [
    "x = \n",
    "y = \n",
    "print(x + str(y))"
   ]
  },
  {
   "source": [
    "### Opdracht 9:\n",
    "Zorg dat de uitkomst van de uitdrukking \"CambreurCollege\" is:"
   ],
   "cell_type": "markdown",
   "metadata": {}
  },
  {
   "cell_type": "code",
   "execution_count": 1,
   "metadata": {},
   "outputs": [
    {
     "output_type": "stream",
     "name": "stdout",
     "text": [
      "Cambreur\n"
     ]
    }
   ],
   "source": [
    "x = \n",
    "y = \n",
    "print(x + y)"
   ]
  },
  {
   "source": [
    "### Opdracht 10:\n",
    "Zorg dat de uitkomst van de uitdrukking \"biembiembiembiembiembiem\" is:\n"
   ],
   "cell_type": "markdown",
   "metadata": {}
  },
  {
   "cell_type": "code",
   "execution_count": null,
   "metadata": {},
   "outputs": [],
   "source": [
    "x = \n",
    "y = \n",
    "print(x * y)"
   ]
  },
  {
   "source": [
    "## VERGEET NIET DE NOTEBOOK OP TE SLAAN VOORDAT JE HET INLEVERT! (CONTROL + S)"
   ],
   "cell_type": "markdown",
   "metadata": {}
  }
 ]
}