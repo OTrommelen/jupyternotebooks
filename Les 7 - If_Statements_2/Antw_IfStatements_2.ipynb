{
 "metadata": {
  "language_info": {
   "codemirror_mode": {
    "name": "ipython",
    "version": 3
   },
   "file_extension": ".py",
   "mimetype": "text/x-python",
   "name": "python",
   "nbconvert_exporter": "python",
   "pygments_lexer": "ipython3",
   "version": "3.9.1-final"
  },
  "orig_nbformat": 2,
  "kernelspec": {
   "name": "python3",
   "display_name": "Python 3.9.1 64-bit",
   "metadata": {
    "interpreter": {
     "hash": "89aee6942dff7a18974bb50e1d06d5f53d62a755afa5f3e07738ada7c8d88558"
    }
   }
  }
 },
 "nbformat": 4,
 "nbformat_minor": 2,
 "cells": [
  {
   "source": [
    "# Grotere If Statements\n"
   ],
   "cell_type": "markdown",
   "metadata": {}
  },
  {
   "source": [
    "Grotere `If Statements` zijn beslissingen die uit meerdere beslissingen bestaan. Door meerdere beslissingen samen te voegen in 1 beslissingen wordt de code een stuk overzichtelijker en makkelijker te lezen. Ook is het een stuk minder werk voor ons om dit te maken. Bekijk het volgende voorbeeld eens:\n",
    "\n",
    "Je mag een kat adopteren als je ouder bent dan 14 en tenminste 40 euro hebt. In dit voorbeeld staan 2 beslissingen die `True` moeten zijn. Namelijk dat je ouder moet zijn dan 14 en dat je tenminste 40 euro hebt. Zouden we dit zo programmeren zonder het samen te voegen, dan zal het er als volgt uitzien:"
   ],
   "cell_type": "markdown",
   "metadata": {}
  },
  {
   "cell_type": "code",
   "execution_count": null,
   "metadata": {},
   "outputs": [],
   "source": [
    "leeftijd = 12\n",
    "geld = 60\n",
    "\n",
    "if(leeftijd > 14):\n",
    "    if(geld > 40):\n",
    "        print(\"Je mag een kat adopteren!\")\n",
    "    else:\n",
    "        print(\"Je mag geen kat adopteren.\")\n",
    "else:\n",
    "    print(\"Je mag geen kat adopteren.\")"
   ]
  },
  {
   "source": [
    "Om deze beslissingen te combineren, gaan we gebruik maken van `Logische operatoren`. Dit zijn:\n",
    "- **and**. Dit is een letterlijke vertaling, dit betekent namelijk **en**. Als deze logische operatoor tussen 2 beslissingen staat, dan moeten beide beslissingen `True` zijn.\n",
    "- **or**. Wederom is dit een letterlijke vertaling, dit betekent namelijk **of**. Als deze logische operatoor tussen 2 beslissingen staat, dan hoeft er maar 1'tje `True` te zijn.\n",
    "- **not**. Weer een letterlijke vertaling, deze keer namelijk **niet**. Deze logische operatoor wordt voor een beslissingen gezet en daarna wordt de uitkomst van deze beslissingen omgedraait. `True` wordt dan `False` en `False` wordt `True`.\n",
    "\n",
    "We kunnen bij de voorbeeld opdracht zien dat we de `and` operatoor moeten gebruiken. Want je moet namelijk ouder zijn dan 14 **EN** je moet tenminste 40 euro hebben. Om deze operatoor te gebruiken zetten we deze gewoon tussen de beslissingen: "
   ],
   "cell_type": "markdown",
   "metadata": {}
  },
  {
   "cell_type": "code",
   "execution_count": null,
   "metadata": {},
   "outputs": [],
   "source": [
    "leeftijd = 12\n",
    "geld = 60\n",
    "\n",
    "if(leeftijd > 14 and geld > 40):\n",
    "    print(\"Je mag een kat adopteren!\")\n",
    "else:\n",
    "    print(\"Je mag geen kat adopteren.\")"
   ]
  },
  {
   "source": [
    "Onder bij de voorbeeldopdrachten staan voorbeelden die gebruik maken van **or** en **not**.\n",
    "\n",
    "---"
   ],
   "cell_type": "markdown",
   "metadata": {}
  },
  {
   "source": [
    "# Opdrachten\n",
    "Hieronder staan de opdrachten die over grotere beslissingen gaan. Kijk goed naar de voorbeelden en probeer het zo veel mogelijk te maken."
   ],
   "cell_type": "markdown",
   "metadata": {}
  },
  {
   "source": [
    "## Voorbeeld opdracht 1:\n",
    "\n",
    "Maak een algoritme dat kijkt of een `variabelen` <u>niet</u> 42 is."
   ],
   "cell_type": "markdown",
   "metadata": {}
  },
  {
   "cell_type": "code",
   "execution_count": 3,
   "metadata": {},
   "outputs": [
    {
     "output_type": "stream",
     "name": "stdout",
     "text": [
      "Dit nummer is niet 42\n"
     ]
    }
   ],
   "source": [
    "\n",
    "\n",
    "if():\n",
    "    print(\"Dit nummer is niet 42\")\n",
    "else:\n",
    "    print(\"Dit nummer is 42\")"
   ]
  },
  {
   "source": [
    "Allereerst maken we een variabelen `nummer` aan om ons nummer bij te houden waarmee we de beslissing gaan maken. In de opdracht staat dat het nummer <u>niet</u> 42 moet zijn. We weten, dat wanneer we <u>niet</u> hebben, we gebruik moeten maken van de **not** operatoor. \n",
    "\n",
    "Deze operatoor wordt voor een `Conditional` gezet en daarvan wordt de uitkomst omgedraaid. Dus we moeten een `Conditional` hebben die checkt of een nummer 42 is en vervolgens daar **not** voor zetten zodat, wanneer een nummer niet 42 is, dit wordt omgezet naar `True`. \n",
    "\n",
    "Als je naar de onderstaande code kijkt zie je daar de uitgewerkte versie. We gaan eens beter kijken naar de `Conditional` die gecheckt wordt, `not nummer == 42`. Eerst wordt er naar de `Conditional` gekeken, dit is `nummer == 42`. Vervolgens wordt de uitkomst daarvan omgedraaid. Om hier een goed beeld van te krijgen vullen we het nummer 40 in en kijken dan wat er gebeurd.\n",
    "\n",
    "De uitdrukking wordt dan `not 40 == 42`. Eerst wordt er gekeken naar de `Conditional` die in de uitdrukking zit, dit is `40 == 42`. We weten van de vorige les dat hier `False` uitkomt. Dus onze uitdrukking wordt `not False`. Ten slotte wordt de `False` omgezet naar `True` omdat er **not** voorstaat. Dus we krijgen `True`. En de regel onder de `If Statement` wordt uitgevoerd."
   ],
   "cell_type": "markdown",
   "metadata": {}
  },
  {
   "cell_type": "code",
   "execution_count": null,
   "metadata": {},
   "outputs": [],
   "source": [
    "nummer = 41\n",
    "\n",
    "\n",
    "if(not nummer == 42):\n",
    "    print(\"Dit nummer is niet 42\")\n",
    "else:\n",
    "    print(\"Dit nummer is 42\")"
   ]
  },
  {
   "source": [
    "## Voorbeeld opdracht 2:\n",
    "Maak een algoritme dat checkt of een nummer kleiner is dan 5 of groter dan 10."
   ],
   "cell_type": "markdown",
   "metadata": {}
  },
  {
   "cell_type": "code",
   "execution_count": null,
   "metadata": {},
   "outputs": [],
   "source": [
    "\n",
    "\n",
    "if():\n",
    "    print(\"Dit nummer is kleiner dan 5 of groter dan 10\")\n",
    "else:\n",
    "    print(\"Dit nummer is groter dan 5 of kleiner dan 10\")"
   ]
  },
  {
   "source": [
    "Allereerst maken we een variabelen `nummer` aan om ons nummer bij te houden waarmee we de beslissingen gaan maken. In de opdracht staat dat het nummer kleiner dan 5 moet zijn of groter dan 10. We zien dat er **of** in de opdracht staat dus we moeten gebruik maken van de **or** operatoor.\n",
    "\n",
    "Deze operatoor wordt tussen 2 `Conditionals` gezet en slechts 1 van de `Conditionals` moet `True` zijn. We maken dus de 2 `Conditionals` die we nodig hebben. `nummer < 5` en `nummer > 10`. Hiertussen zetten we de operatoor **or** en dan zijn we klaar."
   ],
   "cell_type": "markdown",
   "metadata": {}
  },
  {
   "cell_type": "code",
   "execution_count": null,
   "metadata": {},
   "outputs": [],
   "source": [
    "nummer = 15\n",
    "\n",
    "if(nummer < 5 or nummer > 10):\n",
    "    print(\"Dit nummer is kleiner dan 5 of groter dan 10\")\n",
    "else:\n",
    "    print(\"Dit nummer is groter dan 5 of kleiner dan 10\")"
   ]
  },
  {
   "source": [
    "---\n",
    "\n",
    "## Opdracht 1:\n",
    "Maak een algoritme dat kijkt of een nummer <u>niet</u> gelijk is aan 100."
   ],
   "cell_type": "markdown",
   "metadata": {}
  },
  {
   "cell_type": "code",
   "execution_count": null,
   "metadata": {},
   "outputs": [],
   "source": [
    "nummer = 450\n",
    "\n",
    "if(not nummer == 100):\n",
    "    print(\"Dit nummer is niet 100\")\n",
    "else:\n",
    "    print(\"Dit nummer is 100\")"
   ]
  },
  {
   "source": [
    "## Opdracht 2:\n",
    "Maak een algoritme dat checkt of een nummer tussen `10` en `100` zit. (groter dan 10, kleiner dan 100)"
   ],
   "cell_type": "markdown",
   "metadata": {}
  },
  {
   "cell_type": "code",
   "execution_count": null,
   "metadata": {},
   "outputs": [],
   "source": [
    "nummer = 24\n",
    "\n",
    "if(nummer > 10 and nummer < 100):\n",
    "    print(\"Dit nummer zit tussen de 10 en 100\")\n",
    "else:\n",
    "    print(\"Dit nummer zit niet tussen de 10 en 100\")"
   ]
  },
  {
   "source": [
    "## Opdracht 3:\n",
    "Maak een algoritme dat checkt of een nummer kleiner is dan 0 of groter is dan 100"
   ],
   "cell_type": "markdown",
   "metadata": {}
  },
  {
   "cell_type": "code",
   "execution_count": null,
   "metadata": {},
   "outputs": [],
   "source": [
    "nummer = 4\n",
    "\n",
    "\n",
    "if(nummer < 0 or nummer > 100):\n",
    "    print(\"Ja, dit nummer is kleiner dan 0 of groter dan 100\")\n",
    "else:\n",
    "    print(\"Nee, dit nummer is niet kleiner dan 0 of groter dan 100\")"
   ]
  },
  {
   "source": [
    "## Opdracht 4:\n",
    "\n",
    "Maak een algoritme dat de leeftijd van de gebruiker vraagt en kijkt of deze mogelijk is (groter dan 0 en kleiner dan 130). Zet de `input()` achter de leeftijd."
   ],
   "cell_type": "markdown",
   "metadata": {}
  },
  {
   "cell_type": "code",
   "execution_count": null,
   "metadata": {},
   "outputs": [],
   "source": [
    "leeftijd = input()\n",
    "leeftijd = int(leeftijd)\n",
    "\n",
    "\n",
    "if(leeftijd > 0 and leeftijd < 130):\n",
    "    print(\"Dit is een leeftijd\")\n",
    "else:\n",
    "    print(\"Nee, deze leeftijd kan niet bestaan\")"
   ]
  }
 ]
}