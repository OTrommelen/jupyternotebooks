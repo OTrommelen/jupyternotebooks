{
 "metadata": {
  "language_info": {
   "codemirror_mode": {
    "name": "ipython",
    "version": 3
   },
   "file_extension": ".py",
   "mimetype": "text/x-python",
   "name": "python",
   "nbconvert_exporter": "python",
   "pygments_lexer": "ipython3",
   "version": "3.9.1-final"
  },
  "orig_nbformat": 2,
  "kernelspec": {
   "name": "python3",
   "display_name": "Python 3.9.1 64-bit",
   "metadata": {
    "interpreter": {
     "hash": "89aee6942dff7a18974bb50e1d06d5f53d62a755afa5f3e07738ada7c8d88558"
    }
   }
  }
 },
 "nbformat": 4,
 "nbformat_minor": 2,
 "cells": [
  {
   "source": [
    "# Notebook Variabelen 2\n",
    "In deze Notebook gaan we verder met het oefenen om variabelen te gebruiken in `Python`. Hieronder staat de uitleg van variabelen in `Python` nog een keer uitgelegd met de extra datatype: `boolean` erbij. Lees de uitleg dus goed door en kijk goed naar de voorbeeld code die gegeven is.\n",
    "\n",
    "Verder staan de opdrachten van deze week ook in deze Notebook onder de uitleg. Zorg er dus voor dat je deze opdrachten maakt en **inlevert** op It's Learning!\n"
   ],
   "cell_type": "markdown",
   "metadata": {}
  },
  {
   "source": [
    "## Variabelen in Python\n",
    "\n",
    "Om een variabelen in Python te maken, hoef je alleen maar de naam van de variabelen typen, vervolgens zet je er een `=` teken achter en ten slotte zet je de waarde van de variabelen daarachter. Om een variabelen te gebruiken, hoef je alleen maar de naam van de variabelen in te typen.\n",
    "\n",
    "**Let op!**\n",
    "- Maak je variabelen als een nummer? Dan kan de waarde van het nummer direct achter het `=` teken gezet worden!\n",
    "- Maak je variabelen als een string? Dan moet de waarde van de variabelen tussen `\"\"` komen te staan!\n",
    "- Maak je variabelen als een boolean? Dan kan de waarde alleen `True` of `False` zijn! Denk goed aan de hoofdletters!\n",
    "\n"
   ],
   "cell_type": "markdown",
   "metadata": {}
  },
  {
   "cell_type": "code",
   "execution_count": null,
   "metadata": {},
   "outputs": [],
   "source": [
    "#Voorbeeld\n",
    "x = 5 #Hier wordt een variabelen met de naam `x` aangemaakt met de waarde 5. Je kunt zien dat 5 als een nummer gezien wordt aangezien er geen \"\" omheen staan.\n",
    "y = \"5\" #Hier wordt een variabelen met de naam `y` aangemaakt met de waarde \"5\". Let dus goed op! Deze variabelen wordt dus als een string gezien! Je kan zien dat wanneer je een string hebt, de kleur oranje wordt!\n",
    "z = \"Cambreur College\" #Hier wordt een variabelen met de naam `z` aangemaakt met de waarde \"Cambreur College\". Je kunt aan de \"\" zien dat dit een string is.\n",
    "isStudent = False #Hier wordt een variabelen met de naam `isStudent` aangemaakt met de waarde False. Dit is dus een boolean. Er staan GEEN \"\" om de waarde heen en `False wordt met een hoofdletter geschreven. Je kan zien of je de waarde goed hebt staan als de kleur veranderd.\n",
    "isDocent = False #Hier wordt een variabelen met de naam `isDocent` aangemaakt met de waarde True. Dit is dus een boolean"
   ]
  },
  {
   "source": [
    "# Opdrachten\n",
    "In de volgende opdrachten moet je zorgen dat de `uitdrukking` op een bepaalde uitkomst komt. Deze keer zijn er bij sommige opdrachten bepaalde dingen niet toegestaan. Dus lees goed de opdracht door! De uitdrukking zal voor de zekerheid extra worden aangegeven in de code zelf!\n",
    "\n",
    "Ook staan de variabelen niet klaar, maar moet je die zelf aanmaken. De naam van de variabelen wordt al wel meegegeven. Zie het voorbeeld hieronder:\n",
    "\n",
    "## Voorbeeld\n",
    "Zorg dat de uitkomst van de uitdrukking `5BoopTrue` is, maar je mag maar **1 string** gebruiken! "
   ],
   "cell_type": "markdown",
   "metadata": {}
  },
  {
   "cell_type": "code",
   "execution_count": null,
   "metadata": {},
   "outputs": [],
   "source": [
    "x = 5\n",
    "y = 'Boop'\n",
    "z = True\n",
    "\n",
    "\n",
    "#5BoopTrue\n",
    "if(isinstance(x, str) or isinstance(z, str)):\n",
    "    print(\"Er zijn teveel strings of je hebt variabelen omgedraaid!\")\n",
    "else:\n",
    "    print(str(x) + y + str(z)) # <---De uitdrukking"
   ]
  },
  {
   "source": [
    "Je kan zien dat de uidrukking `str(x) + y + str(z)` is. Maar nergens in de code staan de variabelen aangegeven. Het is dus de opdracht om deze variabelen aan te maken. Verder mogen we maar 1 string gebruiken, dus dat betekend dat maar 1 variabelen met \"\" een waarde mag krijgen. We gaan dus de variabelen `x`, `y` & `z` aanmaken en deze waardes geven zodat de uitkomst `5BoopTrue` wordt."
   ],
   "cell_type": "markdown",
   "metadata": {}
  },
  {
   "cell_type": "code",
   "execution_count": null,
   "metadata": {},
   "outputs": [],
   "source": [
    "x = 5\n",
    "y = \"Boop\"\n",
    "z = True\n",
    "\n",
    "if(isinstance(x, str) or isinstance(z, str)):\n",
    "    print(\"Er zijn teveel strings!\")\n",
    "else:\n",
    "    print(str(x) + y + str(z)) # <---De uitdrukking"
   ]
  },
  {
   "source": [
    "### Opdracht 1\n",
    "Zorg dat de uitkomst van de uitdrukking `24` is."
   ],
   "cell_type": "markdown",
   "metadata": {}
  },
  {
   "cell_type": "code",
   "execution_count": null,
   "metadata": {},
   "outputs": [],
   "source": [
    "x = \n",
    "\n",
    "print(2 * x) # <---De uitdrukking"
   ]
  },
  {
   "source": [
    "### Opdracht 2\n",
    "Zorg dat de uitkomst van de uitdrukking `CambreurCambreurCambreur` is.\n"
   ],
   "cell_type": "markdown",
   "metadata": {}
  },
  {
   "cell_type": "code",
   "execution_count": null,
   "metadata": {},
   "outputs": [],
   "source": [
    "x = \n",
    "y = \n",
    "\n",
    "print(x * y) # <---De uitdrukking"
   ]
  },
  {
   "source": [
    "### Opdracht 3\n",
    "Zorg dat de uitkomst van de uitdrukking `False` is door gebruik te maken van een `boolean`."
   ],
   "cell_type": "markdown",
   "metadata": {}
  },
  {
   "cell_type": "code",
   "execution_count": null,
   "metadata": {},
   "outputs": [],
   "source": [
    "x = \n",
    "\n",
    "if(isinstance(x, str)):\n",
    "    print(\"Niet goed! Je variabelen is een string, dit moet een boolean zijn\")\n",
    "else:\n",
    "    print(x) # <---De uitdrukking"
   ]
  },
  {
   "source": [
    "### Opdracht 4\n",
    "Maak nu zelf een uitdrukking zodat de uitkomst `50Jaar` is. Je moet dus zelf de variabelen en de uitdrukking maken. Maak de uitdrukking tussen de `()` van `print`."
   ],
   "cell_type": "markdown",
   "metadata": {}
  },
  {
   "cell_type": "code",
   "execution_count": null,
   "metadata": {},
   "outputs": [],
   "source": [
    "x = \n",
    "\n",
    "print(x) # <---De uitdrukking"
   ]
  },
  {
   "source": [
    "### Opdracht 5\n",
    "Zorg dat de uitkomst van de uitdrukking `12AppelsFalse` is. Je mag maar gebruik maken van 1 string waarde! **Let goed op welke variabelen je aan moet maken!**\n"
   ],
   "cell_type": "markdown",
   "metadata": {}
  },
  {
   "cell_type": "code",
   "execution_count": 2,
   "metadata": {},
   "outputs": [
    {
     "output_type": "stream",
     "name": "stdout",
     "text": [
      "Er zijn teveel strings!\n"
     ]
    }
   ],
   "source": [
    "x = \n",
    "w = \n",
    "y = \n",
    "z = \n",
    "\n",
    "if(isinstance(x, str) or isinstance(z, str) or isinstance(w, str)):\n",
    "    print(\"Er zijn teveel strings!\")\n",
    "else:\n",
    "    print(str(x / w) + y + str(z)) # <---De uitdrukking"
   ]
  },
  {
   "source": [
    "### Opdracht 6\n",
    "Zorg dat de uitkomst van de uitdrukking `PythonPythonPythonPythonTrue` is. Je mag maar gebruik maken van 1 string waarde!"
   ],
   "cell_type": "markdown",
   "metadata": {}
  },
  {
   "cell_type": "code",
   "execution_count": null,
   "metadata": {},
   "outputs": [],
   "source": [
    "\n",
    "\n",
    "if(isinstance(x, str) or isinstance(z, str) or isinstance(w, str)):\n",
    "    print(\"Er zijn teveel strings!\")\n",
    "else:\n",
    "    print((x - w) * y + str(z)) # <---De uitdrukking"
   ]
  },
  {
   "source": [
    "### Opdracht 7\n",
    "Zorg dat de uitkomst van de uitdrukking `TrueFalse` is, zonder gebruik te maken van strings!"
   ],
   "cell_type": "markdown",
   "metadata": {}
  },
  {
   "cell_type": "code",
   "execution_count": null,
   "metadata": {},
   "outputs": [],
   "source": [
    "x = \n",
    "y = \n",
    "\n",
    "\n",
    "if(isinstance(x, str) or isinstance(y, str)):\n",
    "    print(\"Er zijn teveel strings!\")\n",
    "else:\n",
    "    print(str(x) + str(y)) # <---De uitdrukking"
   ]
  },
  {
   "source": [
    "### Opdracht 8\n",
    "Zorg dat de uitkomst van de uitdrukking TrueTrueTrueTrue is, zonder gebruik te maken van strings!"
   ],
   "cell_type": "markdown",
   "metadata": {}
  },
  {
   "cell_type": "code",
   "execution_count": null,
   "metadata": {},
   "outputs": [],
   "source": [
    "x = \n",
    "y = \n",
    "\n",
    "if(isinstance(x, str) or isinstance(y, str)):\n",
    "    print(\"Er zijn teveel strings!\")\n",
    "else:\n",
    "    print(x * str(y)) # <---De uitdrukking"
   ]
  },
  {
   "source": [
    "### Opdracht 9\n",
    "Zorg dat de uitkomst van de uitdrukking `Perzik12FalseFalse` is. Je mag maar gebruik maken van 1 string waarde!"
   ],
   "cell_type": "markdown",
   "metadata": {}
  },
  {
   "cell_type": "code",
   "execution_count": null,
   "metadata": {},
   "outputs": [],
   "source": [
    "\n",
    "\n",
    "if(isinstance(n, str) or isinstance(m, str) or isinstance(y, str) or isinstance(z, str)):\n",
    "    print(\"Er zijn teveel strings!\")\n",
    "else:\n",
    "    print(x + str(n * m) + (y * str(z))) # <---De uitdrukking"
   ]
  },
  {
   "source": [
    "### Opdracht 10 \n",
    "Zorg dat de uitkomst van de uitdrukking `20` is. Je moet gebruik maken van 2 variabelen waarvan 1 variabelen een nummer is en 1 variabelen een boolean. **TIP: Denk goed aan wat een boolean eigenlijk is.**"
   ],
   "cell_type": "markdown",
   "metadata": {}
  },
  {
   "cell_type": "code",
   "execution_count": null,
   "metadata": {},
   "outputs": [],
   "source": [
    "#HOEF JE NIET TE MAKEN\n",
    "\n",
    "if(isinstance(x, str) or isinstance(y, str)):\n",
    "    print(\"Niet goed, je mag geen strings gebruiken!\")\n",
    "else:\n",
    "    print(x * y) # <---De uitdrukking"
   ]
  },
  {
   "source": [
    "# VERGEET NIET DE NOTEBOOK OP TE SLAAN VOORDAT JE HET INLEVERT! (CONTROL + S)"
   ],
   "cell_type": "markdown",
   "metadata": {}
  }
 ]
}