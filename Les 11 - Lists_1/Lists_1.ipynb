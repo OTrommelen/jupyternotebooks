{
 "metadata": {
  "language_info": {
   "codemirror_mode": {
    "name": "ipython",
    "version": 3
   },
   "file_extension": ".py",
   "mimetype": "text/x-python",
   "name": "python",
   "nbconvert_exporter": "python",
   "pygments_lexer": "ipython3",
   "version": "3.9.2"
  },
  "orig_nbformat": 2,
  "kernelspec": {
   "name": "python392jvsc74a57bd089aee6942dff7a18974bb50e1d06d5f53d62a755afa5f3e07738ada7c8d88558",
   "display_name": "Python 3.9.2 64-bit"
  },
  "metadata": {
   "interpreter": {
    "hash": "89aee6942dff7a18974bb50e1d06d5f53d62a755afa5f3e07738ada7c8d88558"
   }
  }
 },
 "nbformat": 4,
 "nbformat_minor": 2,
 "cells": [
  {
   "source": [
    "# Lijstjes\n",
    "---\n",
    "Tijdens programmeren hebben we some veel informatie die we op moeten slaan. Maar als we voor elk stukje informatie een `variabelen` aanmaken wordt onze code onoverzichtelijk. We kunnen dus gebruik maken van `lists` (NL: Lijstjes). Een `list` kan meerdere waardes opslaan. Zo hoeven we enkel gebruik te maken van de lijst om alle waardes erin te krijgen.\n",
    "\n",
    "In code ziet dit er als volgt uit:"
   ],
   "cell_type": "markdown",
   "metadata": {}
  },
  {
   "cell_type": "code",
   "execution_count": null,
   "metadata": {},
   "outputs": [],
   "source": [
    "mijnNummers = [10, 20, 25]\n",
    "weekDagen = [\"Maandag\", \"Dinsdag\", \"Woensdag\", \"Donderdag\", \"Vrijdag\", \"Zaterdag\", \"Zondag\"]"
   ]
  },
  {
   "source": [
    "## Waardes uit een lijstje krijgen\n",
    "Zoals je kunt zien worden er hier 2 `variabelen` aangemaakt, namelijk `mijnNummers` en `weekDagen`. De waardes die deze `variabelen` krijgen is een lijstje. Dit kun je zien omdat er gebruik gemaakt wordt van `[ ]`. Deze blokhaken geven aan wanneer iets een lijstje is. De waardes die tussen de `[ ]` staan zijn de `waardes` in het lijstje. De verschillende waardes in het lijstje worden apart gezet met behulp van een komma (`,`). Let wel goed op dat je de waardes goed aanmaakt! Dus als we in het lijstje `Strings` (woorden) willen opslaan, dan moeten die ook tussen \" \" staan. Dit kun je zien in het lijstje `weekDagen`.\n",
    "\n",
    "Alleen het opslaan van de waardes in een lijstje is niet handig, we moeten namelijk ook bij deze waardes kunnen. Om dit te doen maken we wederom weer gebruik van de blokhaken (`[ ]`). Deze zetten we achter de naam van het lijstje en daarin zetten we een nummer. Dit nummer geeft de waarde terug die op die positie staat in het lijstje. **HEEL BELANGRIJK:** de posities in het lijstje beginnen altijd bij `0`, dus `0` is de eerste waarde, `1` is de tweede waarde, enz. Dit ziet er als volgt uit:"
   ],
   "cell_type": "markdown",
   "metadata": {}
  },
  {
   "cell_type": "code",
   "execution_count": null,
   "metadata": {},
   "outputs": [],
   "source": [
    "mijnNummers = [10, 20, 25]\n",
    "weekDagen = [\"Maandag\", \"Dinsdag\", \"Woensdag\", \"Donderdag\", \"Vrijdag\", \"Zaterdag\", \"Zondag\"]\n",
    "\n",
    "print(mijnNummers[0]) #Dit geeft dus 10\n",
    "print(weekDagen[2]) #Dit geeft dus Woensdag"
   ]
  },
  {
   "source": [
    "## Waardes uit een lijstje halen\n",
    "\n",
    "Als we een waarde uit een lijstje willen verwijderen kunnen we dat doen met de `pop()` methode. Wat een `methode` is komt in een latere les. Het enige wat je moet weten is dat je de `pop()` methode kan gebruiken door deze achter de naam van het lijstje te zetten met een `.` (punt) ervoor. Tussen de haakjes van `pop()` geven we aan van welke positie in het lijstje we de waarde willen verwijderen. Dit ziet er als volgt uit:\n"
   ],
   "cell_type": "markdown",
   "metadata": {}
  },
  {
   "cell_type": "code",
   "execution_count": null,
   "metadata": {},
   "outputs": [],
   "source": [
    "weekDagen = [\"Maandag\", \"Dinsdag\", \"Woensdag\", \"Donderdag\", \"Vrijdag\", \"Zaterdag\", \"Zondag\"]\n",
    "print(weekDagen)\n",
    "\n",
    "weekDagen.pop(3) #De waarde op positie 3 (Donderdag) van de lijst wordt nu verwijderd (Let op! Dit is dus de 4de waarde aangezien we vanaf 0 beginnen met tellen!)\n",
    "print(weekDagen)"
   ]
  },
  {
   "source": [
    "## Waardes aan een lijstje toevoegen\n",
    "We kunnen ook waardes aan een lijstje toevoegen. Nu gebruiken we de `append()` methode. Append betekent in het Nederlands: aanplakken, en dat is precies wat we hier dus ook doen. We plakken een waarde achteraan het lijstje toe. De waarde die we aan het lijstje willen toevoegen zetten tussen de `()` van de `append()`. Net zoals bij `pop()`, zetten we `append()` achter de naam van het lijstje met een `.` (punt). In code ziet dit er zo uit:"
   ],
   "cell_type": "markdown",
   "metadata": {}
  },
  {
   "cell_type": "code",
   "execution_count": null,
   "metadata": {},
   "outputs": [],
   "source": [
    "mijnNummers = [10, 20, 25]\n",
    "print(mijnNummers)\n",
    "\n",
    "mijnNummers.append(42)\n",
    "print(mijnNummers)"
   ]
  },
  {
   "source": [
    "# Opdrachten\n",
    "---"
   ],
   "cell_type": "markdown",
   "metadata": {}
  },
  {
   "source": [
    "### Voorbeeld Opdracht 1\n",
    "Maak een lijstje met de volgende waardes: `1, 1, 2, 3, 5, 8, 13`. Zorg dat dit lijstje wordt uitgeprint met behulp van `print()`."
   ],
   "cell_type": "markdown",
   "metadata": {}
  },
  {
   "cell_type": "code",
   "execution_count": null,
   "metadata": {},
   "outputs": [],
   "source": [
    "\n"
   ]
  },
  {
   "source": [
    "*Om een lijstje te maken hoeven we alleen de naam van het lijstje te typen en vervolgens een `= []`. We zetten de waardes tussen de `[]` en gescheiden met een komma. Ten slotte zetten we onderdaan de code een `print()` en de naam van het lijstje tussen de ().*"
   ],
   "cell_type": "markdown",
   "metadata": {}
  },
  {
   "cell_type": "code",
   "execution_count": null,
   "metadata": {},
   "outputs": [],
   "source": [
    "nummers = [1, 1, 2, 3, 5, 8, 13]\n",
    "print(nummers)"
   ]
  },
  {
   "source": [
    "### Voorbeeld Opdracht 2\n",
    "Maak een lijstje met de volgende waardes: `appel, banaan, kiwi, aardbei`. Haal vervolgens de waarde `kiwi` uit het lijstje en zorg dat het lijstje wordt uitgeprint met behulp van `print()`."
   ],
   "cell_type": "markdown",
   "metadata": {}
  },
  {
   "cell_type": "code",
   "execution_count": null,
   "metadata": {},
   "outputs": [],
   "source": []
  },
  {
   "source": [
    "*We maken het lijstje `fruit` aan met behulp van `[ ]`. Dit geeft aan dat `fruit` een lijstje is. Tussen de `[]` zetten we de waardes die we in het lijstje op willen slaan. Let op, aangezien dit woorden zijn moeten deze tussen \"\" staan. Vervolgens maken we gebruik van de `pop()` methode om een waarde uit het lijstje te halen. We zien dat `kiwi` op positie 2 staat aangezien we vanaf 0 beginnen te tellen. Deze positie zetten we dus tussen de haakjes van `pop()`. Ten slotte zetten we onderaan een `print()` met de naam van het lijstje tussen de ()."
   ],
   "cell_type": "markdown",
   "metadata": {}
  },
  {
   "cell_type": "code",
   "execution_count": null,
   "metadata": {},
   "outputs": [],
   "source": [
    "fruit = [\"appel\", \"banaan\", \"kiwi\", \"aardbei\"]\n",
    "fruit.pop(2)\n",
    "\n",
    "print(fruit)"
   ]
  },
  {
   "source": [
    "### Opdracht 1\n",
    "Maak het lijstje af door de waardes `1, 10, 100, 1000` erin in op te slaan."
   ],
   "cell_type": "markdown",
   "metadata": {}
  },
  {
   "cell_type": "code",
   "execution_count": null,
   "metadata": {},
   "outputs": [],
   "source": [
    "tientallen = []\n",
    "print(tientallen)"
   ]
  },
  {
   "source": [
    "### Opdracht 2\n",
    "Maak een lijstje met de waardes `2, 4, 8, 16, 32` en print deze uit."
   ],
   "cell_type": "markdown",
   "metadata": {}
  },
  {
   "cell_type": "code",
   "execution_count": null,
   "metadata": {},
   "outputs": [],
   "source": [
    "\n"
   ]
  },
  {
   "source": [
    "### Opdracht 3\n",
    "Maak een lijstje met de waardes `2, 3, 5` en gebruik `append()` om de waarde `7` er achter te plakken. Ben je in de war? Lees dan de uitleg hierboven nogmaals!."
   ],
   "cell_type": "markdown",
   "metadata": {}
  },
  {
   "cell_type": "code",
   "execution_count": null,
   "metadata": {},
   "outputs": [],
   "source": [
    "\n"
   ]
  },
  {
   "source": [
    "### Opdracht 4\n",
    "Maak een lijstje met de waardes `maandag, dinsdag, woensdag, donderdag, vrijdag, zaterdag, zondag`. Haal de waarde `vrijdag` op uit het lijstje en zit dit tussen de print"
   ],
   "cell_type": "markdown",
   "metadata": {}
  },
  {
   "cell_type": "code",
   "execution_count": null,
   "metadata": {},
   "outputs": [],
   "source": [
    "\n",
    "\n",
    "print()"
   ]
  },
  {
   "source": [
    "### Opdracht 5 \n",
    "Maak een lijstje met 5 verschillende waardes en haal vervolgens de eerste waarde eruit."
   ],
   "cell_type": "markdown",
   "metadata": {}
  },
  {
   "cell_type": "code",
   "execution_count": null,
   "metadata": {},
   "outputs": [],
   "source": []
  },
  {
   "source": [
    "### Opdracht 6\n",
    "Maak een lijstje `fruit` met de waardes `appel, aardbei, aardappel`. Voeg vervolgens de waarde `Meloen` toe en haal daarna de waarde `aardappel` eruit."
   ],
   "cell_type": "markdown",
   "metadata": {}
  },
  {
   "cell_type": "code",
   "execution_count": null,
   "metadata": {},
   "outputs": [],
   "source": [
    "fruit = \n",
    "\n",
    "\n",
    "print()"
   ]
  }
 ]
}