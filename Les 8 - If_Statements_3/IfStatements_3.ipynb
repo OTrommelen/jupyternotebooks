{
 "metadata": {
  "language_info": {
   "codemirror_mode": {
    "name": "ipython",
    "version": 3
   },
   "file_extension": ".py",
   "mimetype": "text/x-python",
   "name": "python",
   "nbconvert_exporter": "python",
   "pygments_lexer": "ipython3",
   "version": "3.9.2-final"
  },
  "orig_nbformat": 2,
  "kernelspec": {
   "name": "python3",
   "display_name": "Python 3.9.2 64-bit",
   "metadata": {
    "interpreter": {
     "hash": "89aee6942dff7a18974bb50e1d06d5f53d62a755afa5f3e07738ada7c8d88558"
    }
   }
  }
 },
 "nbformat": 4,
 "nbformat_minor": 2,
 "cells": [
  {
   "source": [
    "# Meerdere If Statements\n",
    "\n",
    "Soms willen we meerdere beslissingen kunnen maken waarvan 1 daadwerkelijk wordt uitgevoerd. We zouden meerdere `If Statements` in elkaar kunnen zetten en dan krijgen we het volgende voorbeeld:"
   ],
   "cell_type": "markdown",
   "metadata": {}
  },
  {
   "cell_type": "code",
   "execution_count": null,
   "metadata": {},
   "outputs": [],
   "source": [
    "tempratuur = \n",
    "\n",
    "if(tempratuur > 35):\n",
    "    print(\"Het is veels te warm!\")\n",
    "else:\n",
    "    if(tempratuur > 30):\n",
    "        print(\"Het is heel warm!\")\n",
    "    else:\n",
    "        if(tempratuur > 25):\n",
    "            print(\"Het is lekker weer!\")\n",
    "        else:\n",
    "            if(tempratuur > 20):\n",
    "                print(\"Het gaat nog wel\")\n",
    "            else:\n",
    "                print(\"Het is geen zomerweer.\")"
   ]
  },
  {
   "source": [
    "Deze code werkt, maar is niet overzichtelijk. Er staat veel onnodige code in en alles staat op een rare plek. We kunnen dit verbeteren door gebruik te maken van een `elif`. We weten dat een `If Statement` bestaat uit een `if` en een `else`. Slechts 1 van de stukken code onder de `if` of `else` wordt uitgevoerd, nooit allebei. Om extra beslissingen te kunnen maken kunnen we gebruik maken van `elif` (else if). Dit is dus een `else` waarin we nog een `conditional` kunnen zetten. Let wel op, dat als je gebruik maakt van een `if elif else` slechts 1 van deze stukken code kan worden uitgevoerd. Nooit meerdere. \n",
    "\n",
    "We kunnen dus `elif` gebruiken om de code van het voorbeeld hierboven een stuk duidelijker te maken:"
   ],
   "cell_type": "markdown",
   "metadata": {}
  },
  {
   "cell_type": "code",
   "execution_count": null,
   "metadata": {},
   "outputs": [],
   "source": [
    "tempratuur = 34\n",
    "\n",
    "if(tempratuur > 35):\n",
    "    print(\"Het is veels te warm!\")\n",
    "elif(tempratuur > 30):\n",
    "    print(\"Het is heel warm!\")\n",
    "elif(tempratuur > 25):\n",
    "    print(\"Het is lekker weer!\")\n",
    "elif(tempratuur > 20):\n",
    "    print(\"Het gaat nog wel\")\n",
    "else:\n",
    "    print(\"het is geen zomer weer\")"
   ]
  },
  {
   "source": [
    "# Modulo operator (%)\n",
    "De modulo operator is een reken-operator die de rest van een deelsom uitrekent. Voor de code hieronder maar eens uit om dit in werking te zien!"
   ],
   "cell_type": "markdown",
   "metadata": {}
  },
  {
   "cell_type": "code",
   "execution_count": null,
   "metadata": {},
   "outputs": [],
   "source": [
    "print(\"5 % 2 = \" + str(5 % 2))\n",
    "print(\"32 % 2 = \" + str(32 % 2))\n",
    "print(\"12 % 3 = \" + str(5 % 2))"
   ]
  },
  {
   "source": [
    "Voor ons is dit heel handig bij verschillende toepassingen, maar vooral om te kijken of een nummer deelbaar is door een andere nummer. Want als de uitkomst van een modulo deling, 0 is. Betekent dat dat het ene nummer deelbaar is door een ander nummer. Bijvoorbeeld `6 % 2 = 0`, dit betekent dus dat `6` deelbaar is door `2`, aangezien er geen komma-getal uit de deelsom komt. We kunnen dus een programma schrijven om te kijken of een getal even of oneven is. Aangezien een getal even is zodra deze deelbaar is door 2, kunnen we gebruik maken van de `modulo` operator:"
   ],
   "cell_type": "markdown",
   "metadata": {}
  },
  {
   "cell_type": "code",
   "execution_count": null,
   "metadata": {},
   "outputs": [],
   "source": [
    "x = 5\n",
    "\n",
    "if(x % 2 == 0):\n",
    "    print(\"Dit getal is even\")\n",
    "else:\n",
    "    print(\"Dit getal is oneven\")"
   ]
  },
  {
   "source": [
    "# Opdrachten"
   ],
   "cell_type": "markdown",
   "metadata": {}
  },
  {
   "source": [
    "## Voorbeeld opdracht:\n",
    "\n",
    "Maak een programma die verteld wanneer een nummer deelbaar is door 2 en wanneer een nummer deelbaar is door 3. Als dit niet is voor een nummer dan moet dit ook verteld worden.\n",
    "\n",
    "***Als we goed de opdracht doorlezen zien we dat we 3 verschillende kanten op moeten kunnen met ons programma. We moeten namelijk checken of een nummer deelbaar is door 2 ook moeten we checken of een nummer deelbaar is door 3 en als dit niet is moeten we een andere uitkomst programmeren. We moeten dus gebruik maken van een `if statement` met een `elif` aangezien we meerdere dingen moeten checken. Dit zetten we neer in de code:***"
   ],
   "cell_type": "markdown",
   "metadata": {}
  },
  {
   "source": [
    "nummer = \n",
    "\n",
    "if():\n",
    "\n",
    "elif():\n",
    "\n",
    "else:"
   ],
   "cell_type": "code",
   "metadata": {},
   "execution_count": null,
   "outputs": []
  },
  {
   "source": [
    "***Vervolgens moeten we de `conditionals` in de `if elif else` statement toevoegen. We moeten checken wanneer een nummer deelbaar is door 2, dit kunnen we doen met behulp van de `modulo` operator. Als we weten dat de uitkomst hiervan `0` is, dan weten dat een nummer deelbaar is door 2. De conditional die we dus invullen is `nummer % 2 == 0`. Om te checken of een nummer deelbaar is door 3, doen we precies hetzelfde alleen vervangen we de 2 met een 3. Ten slotte voegen we de `prints` toe om output aan de gebruiker te kunnen geven. Het volledige antwoord is dus als volgt:***"
   ],
   "cell_type": "markdown",
   "metadata": {}
  },
  {
   "cell_type": "code",
   "execution_count": null,
   "metadata": {},
   "outputs": [],
   "source": [
    "nummer = \n",
    "\n",
    "if(nummer % 2 == 0):\n",
    "    print(\"Dit nummer is deelbaar door 2\")\n",
    "elif(nummer % 3 == 0):\n",
    "    print(\"Dit nummer is deelbaar door 3\")\n",
    "else:\n",
    "    print(\"Dit nummer is niet deelbaar door 2 en 3\")"
   ]
  },
  {
   "source": [
    "## Opdracht 1:\n",
    "\n",
    "Maak een programma die checkt of een nummer **oneven** is. Vergeet niet een variabelen aan te maken!"
   ],
   "cell_type": "markdown",
   "metadata": {}
  },
  {
   "cell_type": "code",
   "execution_count": null,
   "metadata": {},
   "outputs": [],
   "source": [
    "\n",
    "\n",
    "if():\n",
    "    print(\"Dit nummer is oneven\")\n",
    "else:\n",
    "    print(\"Dit nummer is even\")"
   ]
  },
  {
   "source": [
    "## Opdracht 2:\n",
    "Maak een programma die checkt of 3 verschillende hoeken samen een driehoek vormen. (Maak dus gebruik van 3 variabelen en alle hoeken moeten samen 180 zijn). Schrijf zelf de `if` statement. Kijk goed naar de andere opdrachten en zorg dat de code op de juiste plek staat! Vergeet de **:** niet!"
   ],
   "cell_type": "markdown",
   "metadata": {}
  },
  {
   "cell_type": "code",
   "execution_count": null,
   "metadata": {},
   "outputs": [],
   "source": []
  },
  {
   "source": [
    "## Opdracht 3:\n",
    "Maak een programma die verteld wanneer een nummer deelbaar is door 3 en andere output heeft wanneer het nummer deelbaar is door 5 en weer een andere output als dit voor geen van beide klopt."
   ],
   "cell_type": "markdown",
   "metadata": {}
  },
  {
   "cell_type": "code",
   "execution_count": null,
   "metadata": {},
   "outputs": [],
   "source": [
    "nummer = \n",
    "\n",
    "if():\n",
    "    print(\"Deelbaar door 3\")\n",
    "elif():\n",
    "    print(\"Deelbaar door 5\")\n",
    "else:\n",
    "    print(\"Niet deelbaar door 3 en 5\")"
   ]
  },
  {
   "source": [
    "## Opdracht 4:\n",
    "\n",
    "We gaan een programma maken om te kijken of een jaar een schrikkeljaar is. Dit is wanneer het deelbaar is door 4, maar niet door 100 tenzij het deelbaar is door 400. Om jullie te helpen kan je gebruik maken van het volgende diagram:\n",
    "\n",
    "<img src=\"https://i.imgur.com/mYesYXp.png\">\n",
    "\n",
    "Probeer zelf de code te schrijven en maak gebruik van `modulo` en `if elif elif else` statements."
   ],
   "cell_type": "markdown",
   "metadata": {}
  },
  {
   "cell_type": "code",
   "execution_count": null,
   "metadata": {},
   "outputs": [],
   "source": [
    "\n",
    "\n",
    "\n",
    "\n",
    "\n",
    "\n",
    "\n",
    "\n",
    "\n",
    "\n"
   ]
  }
 ]
}