{
 "metadata": {
  "language_info": {
   "codemirror_mode": {
    "name": "ipython",
    "version": 3
   },
   "file_extension": ".py",
   "mimetype": "text/x-python",
   "name": "python",
   "nbconvert_exporter": "python",
   "pygments_lexer": "ipython3",
   "version": "3.9.1-final"
  },
  "orig_nbformat": 2,
  "kernelspec": {
   "name": "python3",
   "display_name": "Python 3.9.1 64-bit",
   "metadata": {
    "interpreter": {
     "hash": "89aee6942dff7a18974bb50e1d06d5f53d62a755afa5f3e07738ada7c8d88558"
    }
   }
  }
 },
 "nbformat": 4,
 "nbformat_minor": 2,
 "cells": [
  {
   "source": [
    "# Notebook Input 1\n",
    "\n",
    "In deze Notebook gaan we leren hoe we `Input` van een gebruiker kunnen vragen en hiermee verder werken. Ook gaan we verder met het oefenen met het gebruik van `Variabelen`. Het eerste deel van de Notebook herhaalt veel informatie over `Variabelen` terwijl het tweede deel van de Notebook informatie geeft over hoe `Input` gebruikt kan worden. Verder staan er in de Notebook verschillende opdrachten die je voorbereiden voor het maken van de huiswerkopdrachten voor punt."
   ],
   "cell_type": "markdown",
   "metadata": {}
  },
  {
   "source": [
    "## Variabelen in Python\n",
    "\n",
    "Om een variabelen in Python te maken, hoef je alleen maar de naam van de variabelen typen, vervolgens zet je er een `=` teken achter en ten slotte zet je de waarde van de variabelen daarachter. Om een variabelen te gebruiken, hoef je alleen maar de naam van de variabelen in te typen.\n",
    "\n",
    "**Let op!**\n",
    "- Maak je variabelen als een nummer? Dan kan de waarde van het nummer direct achter het `=` teken gezet worden!\n",
    "- Maak je variabelen als een string? Dan moet de waarde van de variabelen tussen `\"\"` komen te staan!\n",
    "- Maak je variabelen als een boolean? Dan kan de waarde alleen `True` of `False` zijn! Denk goed aan de hoofdletters!\n",
    "\n"
   ],
   "cell_type": "markdown",
   "metadata": {}
  },
  {
   "cell_type": "code",
   "execution_count": null,
   "metadata": {},
   "outputs": [],
   "source": [
    "#Voorbeeld\n",
    "x = 5 #Hier wordt een variabelen met de naam `x` aangemaakt met de waarde 5. Je kunt zien dat 5 als een nummer gezien wordt aangezien er geen \"\" omheen staan.\n",
    "y = \"5\" #Hier wordt een variabelen met de naam `y` aangemaakt met de waarde \"5\". Let dus goed op! Deze variabelen wordt dus als een string gezien! Je kan zien dat wanneer je een string hebt, de kleur oranje wordt!\n",
    "z = \"Cambreur College\" #Hier wordt een variabelen met de naam `z` aangemaakt met de waarde \"Cambreur College\". Je kunt aan de \"\" zien dat dit een string is.\n",
    "isStudent = False #Hier wordt een variabelen met de naam `isStudent` aangemaakt met de waarde False. Dit is dus een boolean. Er staan GEEN \"\" om de waarde heen en `False wordt met een hoofdletter geschreven. Je kan zien of je de waarde goed hebt staan als de kleur veranderd.\n",
    "isDocent = False #Hier wordt een variabelen met de naam `isDocent` aangemaakt met de waarde True. Dit is dus een boolean"
   ]
  },
  {
   "source": [
    "## Input in Python\n",
    "\n",
    "Om `Input` te krijgen in Python moet je gebruik maken van de `input()` 'functie'. Wat een functie precies is gaan we bespreken in periode 3. Wat belangrijk is, is dat je `input()` precies schrijft zoals het hier staat. **INCLUSIEF ()**.  `Input` wordt altijd gebruik om **in** een variabelen opgeslagen te worden. Je hebt dus **altijd** `input()` na een `=` teken van een variabelen staan.\n",
    "\n",
    "Zodra je `input()` gebruikt in een variabelen, dan wordt deze variabelen **altijd** een **String** waarde. Dit betekent dus dat je moet oppassen hoe je je variabelen moet gebruiken. Hier hoef je nu nog geen rekening mee te houden.\n",
    "\n",
    "### Probeer de onderstaande code eens uit!\n",
    "Elke regel wordt stap voor stap uitgevoerd. Dus de `Output` komt onder de `Code Block` te staan. Maar de input moet je bovenin je scherm invullen. Zodra die ingevuld is ga het programma verder.\n"
   ],
   "cell_type": "markdown",
   "metadata": {}
  },
  {
   "cell_type": "code",
   "execution_count": null,
   "metadata": {},
   "outputs": [],
   "source": [
    "#VOORBEELD\n",
    "print(\"Wat is je naam?\") #Vraag de gebruiker om zijn/haar naam\n",
    "naam = input() #Sla de Input van de gebruiker op in de naam variabelen\n",
    "print(\"Hallo \" + naam) #Gebruik de naam variabelen om hallo tegen de gebruiker te zeggen"
   ]
  },
  {
   "source": [
    "# Opdrachten\n",
    "In de onderstaande opdrachten is het de bedoeling dat de `uitdrukking` een bepaalde uitkomst heeft. Let goed op wat je moet gebruiken om die uitkomst te bereiken.\n",
    "\n",
    "Dit kan gebruik maken van `Variabelen`, of gebruik maken van `Input` zijn"
   ],
   "cell_type": "markdown",
   "metadata": {}
  },
  {
   "source": [
    "### Voorbeeld 1\n",
    "Zorg dat de uitkomst van de uitdrukking `3Python3` is.\n"
   ],
   "cell_type": "markdown",
   "metadata": {}
  },
  {
   "cell_type": "code",
   "execution_count": null,
   "metadata": {},
   "outputs": [],
   "source": [
    "\n",
    "\n",
    "print(str(x) + y + str(z)) # <-- De uitdrukking"
   ]
  },
  {
   "source": [
    "*Je moet goed kijken naar de uitkomst van de uitdrukking en waar deze uit bestaat. Je ziet dat `3Python3` bestaat uit `3`, `Python`, `3`. Dit is dus een `nummer`, `string`, `nummer`. Zo moet je dus ook de variabelen invullen!* \n",
    "\n",
    "*Als je naar de uitdrukking kijkt, zie je dat er 3 variabelen in staan (`x`, `y` & `z`). Deze variabelen moeten dus gebruikt worden om de uitkomst van de uitdrukking te maken. Dit komt goed uit want de uitkomst van de uitdrukking bestaat namelijk uit 3 delen. Dus we maken deze variabelen met de juiste waarde aan:*"
   ],
   "cell_type": "markdown",
   "metadata": {}
  },
  {
   "cell_type": "code",
   "execution_count": null,
   "metadata": {},
   "outputs": [],
   "source": [
    "x = 3\n",
    "y = \"Python\"\n",
    "z = 3\n",
    "\n",
    "print(str(x) + y + str(z)) # <-- De uitdrukking"
   ]
  },
  {
   "source": [
    "### Voorbeeld 2\n",
    "Zorg dat de uitkomst van de uitdrukking `TrueDoei` is, door gebruik te maken van een `input()`."
   ],
   "cell_type": "markdown",
   "metadata": {}
  },
  {
   "cell_type": "code",
   "execution_count": null,
   "metadata": {},
   "outputs": [],
   "source": [
    "x = True\n",
    "y = input()\n",
    "\n",
    "print(str(x) + y) # <-- De uitdrukking"
   ]
  },
  {
   "source": [
    "*Wederom kijken we weer naar de uitdrukking en uit welke onderdelen deze bestaat. Zo kan je zien dat `TrueDoei` uit 2 verschillende onderdelen bestaat, namelijk `True` & `Doei`.*\n",
    "\n",
    "*Verder zien we dat de variabelen al zijn aangemaakt maar nog geen waardes hebben. We zien dat het eerste gedeelte van de uitkomst `True` moet zijn. Dit komt goed voor ons uit want `True` is een `boolean` waarde (weet je niet wat een boolean waarde is? Lees dan even het stukje hierboven nog een keer goed door!). We weten dus dat de variabelen `x` de waarde `True` moet krijgen.*\n",
    "\n",
    "*Vervolgens moeten we gebruik maken van een `input()`. De waarde van deze `input()` wordt pas bepaald zodra we het programma uit gaan voeren. Dus daar hoeven we in de code nog geen rekening mee te houden.*"
   ],
   "cell_type": "markdown",
   "metadata": {}
  },
  {
   "cell_type": "code",
   "execution_count": null,
   "metadata": {},
   "outputs": [],
   "source": [
    "x = True\n",
    "y = input()\n",
    "\n",
    "print(str(x) + y) # <-- De uitdrukking"
   ]
  },
  {
   "source": [
    "### Opdracht 1\n",
    "Zorg dat de uitkomst van de uitdrukking `8PianoFalse` is."
   ],
   "cell_type": "markdown",
   "metadata": {}
  },
  {
   "cell_type": "code",
   "execution_count": 33,
   "metadata": {},
   "outputs": [
    {
     "output_type": "stream",
     "name": "stdout",
     "text": [
      "8PianoFalse\n"
     ]
    }
   ],
   "source": [
    "x = 8\n",
    "y = \"Piano\"\n",
    "z = False\n",
    "\n",
    "print(str(x) + y + str(z)) # <-- De uitdrukking"
   ]
  },
  {
   "source": [
    "### Opdracht 2\n",
    "Zorg dat de uitkomst van de uitdrukking `1234567890` is."
   ],
   "cell_type": "markdown",
   "metadata": {}
  },
  {
   "cell_type": "code",
   "execution_count": null,
   "metadata": {},
   "outputs": [],
   "source": [
    "x = \"1234\"\n",
    "y = \"567890\"\n",
    "\n",
    "print(str(x) + str(y)) # <-- De uitdrukking"
   ]
  },
  {
   "source": [
    "### Opdracht 3\n",
    "Zorg dat de uitkomst van de uitdrukking `Hallo` is door gebruik te maken van `input()`."
   ],
   "cell_type": "markdown",
   "metadata": {}
  },
  {
   "cell_type": "code",
   "execution_count": 4,
   "metadata": {},
   "outputs": [
    {
     "output_type": "stream",
     "name": "stdout",
     "text": [
      "Hallo\n"
     ]
    }
   ],
   "source": [
    "x = input()\n",
    "print(x) # <-- De uitdrukking"
   ]
  },
  {
   "source": [
    "### Opdracht 4\n",
    "Zorg dat de uitkomst van de uitdrukking `42` is door gebruik te maken van `input()`"
   ],
   "cell_type": "markdown",
   "metadata": {}
  },
  {
   "cell_type": "code",
   "execution_count": 6,
   "metadata": {},
   "outputs": [
    {
     "output_type": "stream",
     "name": "stdout",
     "text": [
      "42\n"
     ]
    }
   ],
   "source": [
    "x = input()\n",
    "y = 2\n",
    "\n",
    "print(int(x) + y) # <-- De uitdrukking"
   ]
  },
  {
   "source": [
    "### Opdracht 5\n",
    "Zorg dat de uitkomst van de uitdrukking `8True` is."
   ],
   "cell_type": "markdown",
   "metadata": {}
  },
  {
   "cell_type": "code",
   "execution_count": null,
   "metadata": {},
   "outputs": [],
   "source": [
    "x = 4\n",
    "y = 4\n",
    "z = True\n",
    "\n",
    "\n",
    "print(str(x + y) + str(z)) # <-- De uitdrukking"
   ]
  },
  {
   "source": [
    "### Opdracht 6\n",
    "Zorg dat de uitkomst van de uitdrukking `24` is door gebruik te maken van 2 `inputs()`."
   ],
   "cell_type": "markdown",
   "metadata": {}
  },
  {
   "cell_type": "code",
   "execution_count": 8,
   "metadata": {},
   "outputs": [
    {
     "output_type": "stream",
     "name": "stdout",
     "text": [
      "24\n"
     ]
    }
   ],
   "source": [
    "x = input(\"X\")\n",
    "y = input(\"Y\")\n",
    "\n",
    "print(int(x) * int(y))"
   ]
  },
  {
   "source": [
    "### Opdracht 7\n",
    "Zorg dat de uitkomst van de uitdrukking `Hallo + je naam` is door gebruik te maken van een `input()`\n"
   ],
   "cell_type": "markdown",
   "metadata": {}
  },
  {
   "cell_type": "code",
   "execution_count": null,
   "metadata": {},
   "outputs": [],
   "source": [
    "x = \"Hallo \"\n",
    "y = input()\n",
    "\n",
    "print(x + y)"
   ]
  },
  {
   "source": [
    "# VERGEET NIET DE NOTEBOOK OP TE SLAAN (CTRL + S)"
   ],
   "cell_type": "markdown",
   "metadata": {}
  }
 ]
}