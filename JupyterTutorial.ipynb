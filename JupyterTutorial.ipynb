{
 "metadata": {
  "language_info": {
   "codemirror_mode": {
    "name": "ipython",
    "version": 3
   },
   "file_extension": ".py",
   "mimetype": "text/x-python",
   "name": "python",
   "nbconvert_exporter": "python",
   "pygments_lexer": "ipython3",
   "version": "3.9.1-final"
  },
  "orig_nbformat": 2,
  "kernelspec": {
   "name": "python3",
   "display_name": "Python 3.9.1 64-bit",
   "metadata": {
    "interpreter": {
     "hash": "89aee6942dff7a18974bb50e1d06d5f53d62a755afa5f3e07738ada7c8d88558"
    }
   }
  }
 },
 "nbformat": 4,
 "nbformat_minor": 2,
 "cells": [
  {
   "source": [
    "# Jupyter Notebooks\n",
    "---\n",
    "We gaan leren programmeren met `Python`. Dit doen we met behulp van `Jupyter Notebooks`. Het bestand waar je nu naar kijkt is een Jupyter Notebook. Kijk maar eens goed wat je allemaal ziet in dit venster. Test even of `Python` goed werkt:\n",
    "\n",
    "\n",
    "\n"
   ],
   "cell_type": "markdown",
   "metadata": {}
  },
  {
   "cell_type": "code",
   "execution_count": null,
   "metadata": {},
   "outputs": [],
   "source": [
    "print(\"Python werkt!\")"
   ]
  },
  {
   "source": [
    "## Cells\n",
    "---\n",
    "Het belangrijkste aan een `Jupyter Notebook` is dat deze bestaat uit verschillende `cells`. Op het plaatje zie je hoe een `cell` eruit ziet. Je ziet dit als het goed is ook hieronder:\n",
    "![Cell](https://i.imgur.com/XXiwR8Q.png)\n",
    "\n",
    "In een `cell` komt de code te staan die jij maakt. Hieronder staan enkele voorbeelden van ingevulde cellen.\n",
    "\n",
    "Linksboven een cell staat 3 verschillende knoppen:\n",
    "- ![Run Cell knop](https://i.imgur.com/dvro7Cq.png) Dit is de `Run Cell` knop. Zodra er op deze knop gedrukt is wordt de `code` in die cell uitgevoerd.\n",
    "- ![Run Cell By Line knop](https://i.imgur.com/yySpTTF.png) Dit is de `Run by line` knop. Zodra een `cell` gerunt wordt met behulp van de `Run Cell` knop dan wordt alle `code` in die `cell` uitgevoerd. De `Run by line` knop voert de regels `code` een-voor-een uit en wacht totdat jij verder wilt. Ondertussen kan je zien wat jouw code precies doet. Dit is dus heel handig als je een fout in je code hebt zitten en je weet niet waar de fout zit.\n",
    "- ![Markdown knop](https://i.imgur.com/y9lbtr1.png) Dit is de `Markdown` knop. Zodra je op deze knop drukt wordt de `cell` van een `code cell` naar een tekst `cell` omgezet.\n",
    "\n",
    "Verder heb je ook nog een delete knop rechts van de `cell` zodra je over de `cell` heen gaat met je muis."
   ],
   "cell_type": "markdown",
   "metadata": {}
  },
  {
   "cell_type": "code",
   "execution_count": 1,
   "metadata": {
    "tags": []
   },
   "outputs": [
    {
     "output_type": "stream",
     "name": "stdout",
     "text": [
      "1 is een priemgetal\n2 is een priemgetal\n3 is een priemgetal\n5 is een priemgetal\n7 is een priemgetal\n11 is een priemgetal\n13 is een priemgetal\n17 is een priemgetal\n19 is een priemgetal\n23 is een priemgetal\n29 is een priemgetal\n31 is een priemgetal\n37 is een priemgetal\n41 is een priemgetal\n43 is een priemgetal\n47 is een priemgetal\n53 is een priemgetal\n59 is een priemgetal\n61 is een priemgetal\n67 is een priemgetal\n71 is een priemgetal\n73 is een priemgetal\n79 is een priemgetal\n83 is een priemgetal\n89 is een priemgetal\n97 is een priemgetal\n"
     ]
    }
   ],
   "source": [
    "#Dit is een voorbeeld cell met code. Geen zorgen de tekst in het groen wordt niet uitgevoerd, waarom dat zo is leren we in een andere les.\n",
    "\n",
    "#Om deze code uit te voeren hoef je alleen op de Run Cell knop te klikken linksboven. Dan worden alle priemgetallen tussen de 1 en 100 weergegeven.\n",
    "\n",
    "for i in range(1, 100):\n",
    "    isPrime = True\n",
    "    for j in range(2, i):\n",
    "        if ((i % j) == 0):\n",
    "            isPrime = False\n",
    "            break\n",
    "    if isPrime:\n",
    "        print(str(i) + \" is een priemgetal\")\n",
    "        "
   ]
  },
  {
   "cell_type": "code",
   "execution_count": null,
   "metadata": {},
   "outputs": [],
   "source": [
    "#Ook kan je code uit andere cellen gebruiken! In deze cell zetten we de waarde van x naar 5:\n",
    "#Klik om de Run Cell knop om deze cell uit te voeren!\n",
    "x = 5"
   ]
  },
  {
   "cell_type": "code",
   "execution_count": null,
   "metadata": {},
   "outputs": [],
   "source": [
    "#Vervolgens geven in deze cell de waarde van x + 5 weer:\n",
    "#Klik om de Run Cell knop om deze cell uit te voeren!\n",
    "print(x + 5)"
   ]
  },
  {
   "source": [
    "## Let wel op dat je de `cellen` niet in de verkeerde volgorde uitvoert!\n",
    "De cell met `print(x + 5)` maakt gebruik van het feit dat `x` al een waarde heeft. We geven `x` een waarde in de cell daarvoor, namelijk `x = 5`. Voer je `print(x + 5)` uit voordat je `x = 5` hebt uitgevoerd dan zal de code niet werken!\n",
    "\n",
    "### Probeer het eens!\n",
    "Bij de knoppen die helemaal bovenaan staan:\n",
    "\n",
    "<img src=\"https://i.imgur.com/lejvj3F.png\" width=300>\n",
    "\n",
    "Klik op de `Restart Jupyter Kernel` knop:\n",
    "\n",
    "![Restart Jupyter Kernel knop](https://i.imgur.com/WXlXBL6.png)\n",
    "\n",
    "Je krijgt dan deze pop-up:\n",
    "\n",
    "<img src=\"https://i.imgur.com/NqDgCFx.png\" width=450>\n",
    "\n",
    "Klik op `Yes, and Don't Ask Again`\n",
    "\n",
    "Probeer nu de cell met `print(x + 5)` eens uit te voeren. Als het goed is krijg je een error.\n",
    "Voer nu eens de cell met `x = 5` uit en daarna pas de cell met `print(x + 5)`, nu moet het weer werken.\n"
   ],
   "cell_type": "markdown",
   "metadata": {}
  }
 ]
}