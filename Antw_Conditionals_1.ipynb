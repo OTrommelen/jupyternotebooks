{
 "metadata": {
  "language_info": {
   "codemirror_mode": {
    "name": "ipython",
    "version": 3
   },
   "file_extension": ".py",
   "mimetype": "text/x-python",
   "name": "python",
   "nbconvert_exporter": "python",
   "pygments_lexer": "ipython3",
   "version": "3.9.2-final"
  },
  "orig_nbformat": 2,
  "kernelspec": {
   "name": "python3",
   "display_name": "Python 3.9.2 64-bit",
   "metadata": {
    "interpreter": {
     "hash": "89aee6942dff7a18974bb50e1d06d5f53d62a755afa5f3e07738ada7c8d88558"
    }
   }
  }
 },
 "nbformat": 4,
 "nbformat_minor": 2,
 "cells": [
  {
   "source": [
    "# Conditionals\n",
    "---\n",
    "`Conditionals` zijn uitdrukkingen die `True` (waar) of `False` (niet waar) kunnen zijn. Om deze uitdrukkingen te kunnen maken, maken we gebruik van de verschillende `operators`:\n",
    "- `>`. Groter dan. Voorbeeld: 8 > 2. 8 Is inderdaad groter dan 2, dus dit is waar.\n",
    "- `<`. Kleiner dan. Voorbeeld 2 < 8. 2 is inderdaag kleiner dan 8, dus dit is waar.\n",
    "- `==`. Gelijk. Voorbeeld 8 == 8. 8 is inderdaad gelijk aan 8, dus dit is waar.\n",
    "\n",
    "Bekijk de voorbeelden hieronder maar eens:"
   ],
   "cell_type": "markdown",
   "metadata": {}
  },
  {
   "cell_type": "code",
   "execution_count": null,
   "metadata": {},
   "outputs": [],
   "source": [
    "x = 10 < 100 #10 is kleiner dan 100, dus dit is waar\n",
    "print(\"x = \" + str(x))\n",
    "y = 10 > 5 #10 is groter dan 5, dus dit is waar\n",
    "print(\"y = \" + str(y))\n",
    "z = 10 == 10 #10 is gelijk aan 10, dus dit is waar\n",
    "print(\"z = \" + str(z))"
   ]
  },
  {
   "source": [
    "Maar de uitdrukkingen hoeven ook niet altijd op `True` (waar) uit te komen, maar ook op `False` (niet waar) Kijk eens naar de volgende uitdrukkingen:"
   ],
   "cell_type": "markdown",
   "metadata": {}
  },
  {
   "cell_type": "code",
   "execution_count": null,
   "metadata": {},
   "outputs": [],
   "source": [
    "x = 10 < 1 #10 is niet kleiner dan 1, dus dit is NIET waar\n",
    "print(\"x = \" + str(x))\n",
    "y = 1 > 5 #1 is niet groter dan 5, dus dit is NIET waar\n",
    "print(\"y = \" + str(y))\n",
    "z = 10 == 1 #10 is niet gelijk aan 1, dus dit is NIET waar\n",
    "print(\"z = \" + str(z))"
   ]
  },
  {
   "source": [
    "## Opdrachten\n",
    "---\n",
    "\n",
    "Net als bij de vorige huiswerk opdrachten, is het de bedoeling dat je de code aanpast zodat de uitkomst van de uitdrukking klopt met hetgene wat de opdracht wilt. Hieronder zie je wat voorbeelden:"
   ],
   "cell_type": "markdown",
   "metadata": {}
  },
  {
   "source": [
    "### Voorbeeld 1:\n",
    "\n",
    "Zorg dat de uitkomst van de uitdrukking `True` is."
   ],
   "cell_type": "markdown",
   "metadata": {}
  },
  {
   "cell_type": "code",
   "execution_count": null,
   "metadata": {},
   "outputs": [],
   "source": [
    "x = 1\n",
    "\n",
    "print(x < 10)"
   ]
  },
  {
   "source": [
    "We zien dus dat de uitdrukking `x < 10` is. Dit betekend dat we `x` een waarde **lager** moeten geven dan 10. Bijvoorbeeld 5"
   ],
   "cell_type": "markdown",
   "metadata": {}
  },
  {
   "cell_type": "code",
   "execution_count": null,
   "metadata": {},
   "outputs": [],
   "source": [
    "x = 5\n",
    "\n",
    "print(x < 10)"
   ]
  },
  {
   "source": [
    "### Voorbeeld 2:\n",
    "\n",
    "Zorg dat de uitkomst van de uitdrukking `False` is."
   ],
   "cell_type": "markdown",
   "metadata": {}
  },
  {
   "cell_type": "code",
   "execution_count": null,
   "metadata": {},
   "outputs": [],
   "source": [
    "x = 1\n",
    "y = 1000\n",
    "\n",
    "print(x * y < 100)"
   ]
  },
  {
   "source": [
    "We zien dus dat de uitdrukking `x * y < 100` is. In deze uitdrukking staan de variabelen `x` & `y`, deze moeten we dus aanmaken. Daarna moeten we zorgen dat de uitdrukking `False` is. \n",
    "\n",
    "We moeten `x` en `y` dus beide een waarde geven zodat `x` * `y` groter dan 100 is. Want de uitdrukking kijkt of `x * y` kleiner is dan 100. Aangezien de uitkomst `False` moet zijn, moet dit dus **niet** waar zijn."
   ],
   "cell_type": "markdown",
   "metadata": {}
  },
  {
   "cell_type": "code",
   "execution_count": null,
   "metadata": {},
   "outputs": [],
   "source": [
    "x = 100\n",
    "y = 100\n",
    "\n",
    "print(x * y < 100)"
   ]
  },
  {
   "source": [
    "### Opdracht 1:\n",
    "Zorg dat de uitkomst van de uitdrukking `True` is."
   ],
   "cell_type": "markdown",
   "metadata": {}
  },
  {
   "cell_type": "code",
   "execution_count": 1,
   "metadata": {},
   "outputs": [
    {
     "output_type": "stream",
     "name": "stdout",
     "text": [
      "True\n"
     ]
    }
   ],
   "source": [
    "x = 42\n",
    "print(x == 42)"
   ]
  },
  {
   "source": [
    "### Opdracht 2:\n",
    "Zorg dat de uitkomst van de uitdrukking `True` is."
   ],
   "cell_type": "markdown",
   "metadata": {}
  },
  {
   "cell_type": "code",
   "execution_count": 2,
   "metadata": {},
   "outputs": [
    {
     "output_type": "stream",
     "name": "stdout",
     "text": [
      "True\n"
     ]
    }
   ],
   "source": [
    "x = 1001\n",
    "print(x > 1000)"
   ]
  },
  {
   "source": [
    "### Opdracht 3:\n",
    "Zorg dat de uitkomst van de uitdrukking `False` is."
   ],
   "cell_type": "markdown",
   "metadata": {}
  },
  {
   "cell_type": "code",
   "execution_count": 3,
   "metadata": {},
   "outputs": [
    {
     "output_type": "stream",
     "name": "stdout",
     "text": [
      "False\n"
     ]
    }
   ],
   "source": [
    "x = 11\n",
    "print(x < 10)"
   ]
  },
  {
   "source": [
    "### Opdracht 4:\n",
    "Zorg dat de uitkomst van de uitdrukking `False` is."
   ],
   "cell_type": "markdown",
   "metadata": {}
  },
  {
   "cell_type": "code",
   "execution_count": 4,
   "metadata": {},
   "outputs": [
    {
     "output_type": "stream",
     "name": "stdout",
     "text": [
      "False\n"
     ]
    }
   ],
   "source": [
    "x = 1\n",
    "y = 2\n",
    "print(x == y)"
   ]
  },
  {
   "source": [
    "### Opdracht 5:\n",
    "Zorg dat de uitkomst van de uitdrukking `True` is."
   ],
   "cell_type": "markdown",
   "metadata": {}
  },
  {
   "cell_type": "code",
   "execution_count": 5,
   "metadata": {},
   "outputs": [
    {
     "output_type": "stream",
     "name": "stdout",
     "text": [
      "True\n"
     ]
    }
   ],
   "source": [
    "x = 2\n",
    "print(x * 5 == 10)"
   ]
  },
  {
   "source": [
    "### Opdracht 6:\n",
    "Zorg dat de uitkomst van de uitdrukking `False` is."
   ],
   "cell_type": "markdown",
   "metadata": {}
  },
  {
   "cell_type": "code",
   "execution_count": 6,
   "metadata": {},
   "outputs": [
    {
     "output_type": "stream",
     "name": "stdout",
     "text": [
      "True\n"
     ]
    }
   ],
   "source": [
    "x = 1000\n",
    "\n",
    "print(x * 10 > 2000)"
   ]
  },
  {
   "source": [
    "### Opdracht 7:\n",
    "Zorg dat de uitkomst van de uitdrukking `True` is."
   ],
   "cell_type": "markdown",
   "metadata": {}
  },
  {
   "cell_type": "code",
   "execution_count": 7,
   "metadata": {},
   "outputs": [
    {
     "output_type": "stream",
     "name": "stdout",
     "text": [
      "True\n"
     ]
    }
   ],
   "source": [
    "x = 0\n",
    "y = 0\n",
    "\n",
    "print(x + y < 1)"
   ]
  },
  {
   "source": [
    "### Opdracht 8:\n",
    "Zorg dat de uitkomst van de uitdrukking `True` is."
   ],
   "cell_type": "markdown",
   "metadata": {}
  },
  {
   "cell_type": "code",
   "execution_count": 8,
   "metadata": {},
   "outputs": [
    {
     "output_type": "stream",
     "name": "stdout",
     "text": [
      "True\n"
     ]
    }
   ],
   "source": [
    "x = 123\n",
    "y = 123\n",
    "z = 1\n",
    "\n",
    "print(x + y - z > 10)"
   ]
  },
  {
   "source": [
    "### Opdracht 9:\n",
    "Zorg dat de uitkomst van de uitdrukking `True` is met behulp van `input()`."
   ],
   "cell_type": "markdown",
   "metadata": {}
  },
  {
   "cell_type": "code",
   "execution_count": 3,
   "metadata": {},
   "outputs": [
    {
     "output_type": "stream",
     "name": "stdout",
     "text": [
      "True\n"
     ]
    }
   ],
   "source": [
    "x = input()\n",
    "\n",
    "print(int(x) > 10)"
   ]
  },
  {
   "cell_type": "code",
   "execution_count": null,
   "metadata": {},
   "outputs": [],
   "source": []
  }
 ]
}